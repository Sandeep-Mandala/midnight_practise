{
 "cells": [
  {
   "cell_type": "markdown",
   "id": "53ef26fb-2071-4ec2-97c5-32b6821353b2",
   "metadata": {},
   "source": [
    "- Strings\n",
    "\n",
    "- Lists\n",
    "\n",
    "- Dictionary\n",
    "\n",
    "- tuples\n",
    "\n",
    "- sets\n",
    "\n",
    "- Lambda function\n",
    "\n",
    "- File handling"
   ]
  },
  {
   "cell_type": "markdown",
   "id": "60f1ab27-0744-4921-b23d-9dc0f6025c01",
   "metadata": {},
   "source": [
    "## Strings\n",
    "\n",
    "- strings can intialize in three ways\n",
    "\n",
    "    - single quotes\n",
    " \n",
    "      - very common way to present\n",
    "\n",
    "    - double quotes\n",
    " \n",
    "        - Double quotes also very common way to present \n",
    "\n",
    "    - triple quotes\n",
    "\n",
    "      - Triple quoutes means **doc string**"
   ]
  },
  {
   "cell_type": "code",
   "execution_count": 1,
   "id": "794cf024-680f-4d03-9337-91c3cce4ff7a",
   "metadata": {},
   "outputs": [
    {
     "data": {
      "text/plain": [
       "'python'"
      ]
     },
     "execution_count": 1,
     "metadata": {},
     "output_type": "execute_result"
    }
   ],
   "source": [
    "str1='python'\n",
    "str1"
   ]
  },
  {
   "cell_type": "code",
   "execution_count": 2,
   "id": "c62506c0-0d31-4bdb-8eda-c335357a036f",
   "metadata": {},
   "outputs": [
    {
     "data": {
      "text/plain": [
       "str"
      ]
     },
     "execution_count": 2,
     "metadata": {},
     "output_type": "execute_result"
    }
   ],
   "source": [
    "type(str1)"
   ]
  },
  {
   "cell_type": "code",
   "execution_count": 3,
   "id": "9802e46f-a682-4cb3-b058-099ce4820ff5",
   "metadata": {},
   "outputs": [],
   "source": [
    "str2='PYTHON'\n",
    "str3='10.5'\n",
    "str4='10'\n",
    "str5='True'\n",
    "str6=\"&$\""
   ]
  },
  {
   "cell_type": "markdown",
   "id": "b7196b09-87f8-45f1-bd33-45ffa68e39ab",
   "metadata": {},
   "source": [
    "**triple quotes**\n",
    "\n",
    "- triple quotes is used to convey the information\n",
    "\n",
    "- it is also called as **Doc string**\n",
    "\n",
    "- it is also called as **multiline**"
   ]
  },
  {
   "cell_type": "code",
   "execution_count": 5,
   "id": "c9238305-997b-4d3e-bac1-2cb6d122c352",
   "metadata": {},
   "outputs": [
    {
     "name": "stdout",
     "output_type": "stream",
     "text": [
      "Hello how are you\n",
      "      Im good\n"
     ]
    }
   ],
   "source": [
    "str7=\"\"\"Hello how are you\n",
    "      Im good\"\"\"\n",
    "print(str7)"
   ]
  },
  {
   "cell_type": "code",
   "execution_count": 6,
   "id": "fbbdaff5-802c-4ae9-934d-5644dd0cce96",
   "metadata": {},
   "outputs": [
    {
     "data": {
      "text/plain": [
       "\"I like 'python'\""
      ]
     },
     "execution_count": 6,
     "metadata": {},
     "output_type": "execute_result"
    }
   ],
   "source": [
    "str8=\"I like 'python'\"\n",
    "str8"
   ]
  },
  {
   "cell_type": "markdown",
   "id": "e04169f3-e0ef-4464-ad02-0fb339d5f22a",
   "metadata": {},
   "source": [
    "- type\n",
    "\n",
    "- print\n",
    "\n",
    "- len\n",
    "\n",
    "- max\n",
    "\n",
    "- min\n",
    "\n",
    "- reversed\n",
    "\n",
    "- sorted\n",
    "\n",
    "- in \n",
    "\n",
    "- index \n",
    "\n",
    "- slice"
   ]
  },
  {
   "cell_type": "markdown",
   "id": "4252c530-a480-427d-8b35-5c77cf7df402",
   "metadata": {},
   "source": [
    "**type**\n",
    "\n",
    "- type is a keyword , it will give the trype of value"
   ]
  },
  {
   "cell_type": "code",
   "execution_count": 8,
   "id": "e1a8714c-57b0-466a-b102-1f3e045aa68c",
   "metadata": {},
   "outputs": [
    {
     "data": {
      "text/plain": [
       "str"
      ]
     },
     "execution_count": 8,
     "metadata": {},
     "output_type": "execute_result"
    }
   ],
   "source": [
    "str1='python'\n",
    "type(str1)"
   ]
  },
  {
   "cell_type": "markdown",
   "id": "2b1d8b83-b948-4f75-b5db-37e362496dc8",
   "metadata": {},
   "source": [
    "** what is the difference between keywords and package methods**\n",
    "\n",
    "- keyword is reserved word\n",
    "\n",
    "- different methods are avaliable on different packages\n",
    "\n",
    "- we have limited keywords are there : 35 keywords are there\n",
    "   these are fixed\n",
    "\n",
    "- whenever any keyword : keyword(value)\n",
    "\n",
    "- before keyword there is another statement\n",
    "\n",
    "- there is no dot before keyword\n",
    "\n",
    "    - eval()\n",
    "\n",
    "    - input()\n",
    "\n",
    "    - type\n",
    "\n",
    "    - range\n",
    "\n",
    "    - print\n",
    "\n",
    "- if you want use methods from package\n",
    "\n",
    "    - you need to import the package\n",
    "\n",
    "    - or packagename.methodname"
   ]
  },
  {
   "cell_type": "code",
   "execution_count": null,
   "id": "bee92e16-6fc1-4be7-8c97-668b36ac1df4",
   "metadata": {},
   "outputs": [],
   "source": [
    "eval()\n",
    "input()\n",
    "type()\n",
    "print()\n",
    "\n",
    "random.randint\n",
    "time.sleep"
   ]
  },
  {
   "cell_type": "markdown",
   "id": "36593ba0-0ab9-43ba-bfbe-16e04ae1ffe8",
   "metadata": {},
   "source": [
    "**len**"
   ]
  },
  {
   "cell_type": "code",
   "execution_count": 10,
   "id": "cc91eef0-d20e-4d40-bfaf-d96ae76a14a3",
   "metadata": {},
   "outputs": [
    {
     "data": {
      "text/plain": [
       "(6, 9)"
      ]
     },
     "execution_count": 10,
     "metadata": {},
     "output_type": "execute_result"
    }
   ],
   "source": [
    "str1='python'\n",
    "len(str1), len('naresh it')"
   ]
  },
  {
   "cell_type": "code",
   "execution_count": 13,
   "id": "bc14bee6-0ecd-451a-8a7c-c4f767730b5c",
   "metadata": {},
   "outputs": [
    {
     "data": {
      "text/plain": [
       "2"
      ]
     },
     "execution_count": 13,
     "metadata": {},
     "output_type": "execute_result"
    }
   ],
   "source": [
    "len('  ')"
   ]
  },
  {
   "cell_type": "markdown",
   "id": "291722a6-ec7e-4e9b-8372-fb928c59176d",
   "metadata": {},
   "source": [
    "**max**\n",
    "\n",
    "- it will retrive the maximum charcter based on ascii value"
   ]
  },
  {
   "cell_type": "code",
   "execution_count": 14,
   "id": "d316d833-6f16-44b1-bec8-6e0856ae6ef1",
   "metadata": {},
   "outputs": [
    {
     "data": {
      "text/plain": [
       "'y'"
      ]
     },
     "execution_count": 14,
     "metadata": {},
     "output_type": "execute_result"
    }
   ],
   "source": [
    "s1='python'\n",
    "max(s1)"
   ]
  },
  {
   "cell_type": "code",
   "execution_count": 15,
   "id": "9ccd117f-6990-4295-bff7-bc35a7f97767",
   "metadata": {},
   "outputs": [
    {
     "data": {
      "text/plain": [
       "(112, 121, 116, 104, 111, 110)"
      ]
     },
     "execution_count": 15,
     "metadata": {},
     "output_type": "execute_result"
    }
   ],
   "source": [
    "ord('p'),ord('y'),ord('t'),ord('h'),ord('o'),ord('n')"
   ]
  },
  {
   "cell_type": "markdown",
   "id": "4ca21985-b500-4e0c-9bf2-11e7bca9c94d",
   "metadata": {},
   "source": [
    "**min**\n",
    "\n",
    "- it will retrive the maximum charcter based on ascii value"
   ]
  },
  {
   "cell_type": "code",
   "execution_count": 17,
   "id": "829bf198-b9a6-4555-a743-baf62da53148",
   "metadata": {},
   "outputs": [
    {
     "data": {
      "text/plain": [
       "'h'"
      ]
     },
     "execution_count": 17,
     "metadata": {},
     "output_type": "execute_result"
    }
   ],
   "source": [
    "s1='python'\n",
    "min(s1)"
   ]
  },
  {
   "cell_type": "markdown",
   "id": "f151184e-600c-4bde-a312-a304ad953d53",
   "metadata": {},
   "source": [
    "**sum**\n",
    "\n",
    "- It will return the sum of the values\n",
    "\n",
    "- It will not works for strings\n",
    "\n",
    "- It will works for numbers"
   ]
  },
  {
   "cell_type": "code",
   "execution_count": 18,
   "id": "784ce796-33d7-41e0-a558-9335495e5c20",
   "metadata": {},
   "outputs": [
    {
     "ename": "TypeError",
     "evalue": "unsupported operand type(s) for +: 'int' and 'str'",
     "output_type": "error",
     "traceback": [
      "\u001b[1;31m---------------------------------------------------------------------------\u001b[0m",
      "\u001b[1;31mTypeError\u001b[0m                                 Traceback (most recent call last)",
      "Cell \u001b[1;32mIn[18], line 1\u001b[0m\n\u001b[1;32m----> 1\u001b[0m \u001b[38;5;28msum\u001b[39m(\u001b[38;5;124m'\u001b[39m\u001b[38;5;124m123\u001b[39m\u001b[38;5;124m'\u001b[39m), \u001b[38;5;28msum\u001b[39m(\u001b[38;5;124m'\u001b[39m\u001b[38;5;124mpython\u001b[39m\u001b[38;5;124m'\u001b[39m)\n",
      "\u001b[1;31mTypeError\u001b[0m: unsupported operand type(s) for +: 'int' and 'str'"
     ]
    }
   ],
   "source": [
    "sum('123'), sum('python')"
   ]
  },
  {
   "cell_type": "markdown",
   "id": "e3d1a41a-ef48-4a75-85ca-bacc4b76b6b2",
   "metadata": {},
   "source": [
    "**Reversed**"
   ]
  },
  {
   "cell_type": "code",
   "execution_count": 21,
   "id": "92bd99b8-7b27-40e6-b663-ec7f40e626d4",
   "metadata": {},
   "outputs": [
    {
     "name": "stdout",
     "output_type": "stream",
     "text": [
      "n\n",
      "o\n",
      "h\n",
      "t\n",
      "y\n",
      "p\n"
     ]
    }
   ],
   "source": [
    "str1=reversed('python')\n",
    "for i in str1:\n",
    "    print(i)"
   ]
  },
  {
   "cell_type": "markdown",
   "id": "9c190487-0092-4165-999f-fa1791a9c1db",
   "metadata": {},
   "source": [
    "**Note**\n",
    "\n",
    "- whenever you see the output between inside greater than  and less than symbol\n",
    "\n",
    "- Means the output is stored inside that\n",
    "\n",
    "- It is nothing but a **iterator**\n",
    "\n",
    "- Iterator means the output we can see using loop only"
   ]
  },
  {
   "cell_type": "markdown",
   "id": "758c4feb-82b7-44fd-9aee-09f46917b5e0",
   "metadata": {},
   "source": [
    "**sorted**\n",
    "\n",
    "- Will give the output ascending order or descending order based on ascii values\n",
    "\n",
    "- Sorted has one argument called reverse\n",
    "\n",
    "- reverse is a default arguement with value False\n",
    "\n",
    "- False means it retruns in ascending order\n",
    "\n",
    "- acesnding means small to big\n",
    "\n",
    "- Now give reverse=True and check the order\n",
    "\n",
    "- It should be descending order\n",
    "\n",
    "- descending meang bigs to small\n",
    "\n",
    "\n",
    "**Note**\n",
    "\n",
    "- Always try to see what is there in side brackets : shift+tab\n",
    "\n",
    "- if you see any term like iterator, you need to apply loop\n",
    "\n",
    "- In the function call if we see '/' operator, give the arguments directly\n",
    "\n",
    "- example: reversed('python')  correct\n",
    "\n",
    "    - reversed(sequence='python') wrong"
   ]
  },
  {
   "cell_type": "code",
   "execution_count": 23,
   "id": "27b3b14d-10c5-4470-929b-2549b4fb092d",
   "metadata": {},
   "outputs": [
    {
     "data": {
      "text/plain": [
       "(112, 121, 116, 104, 111, 110)"
      ]
     },
     "execution_count": 23,
     "metadata": {},
     "output_type": "execute_result"
    }
   ],
   "source": [
    "ord('p'),ord('y'),ord('t'),ord('h'),ord('o'),ord('n')"
   ]
  },
  {
   "cell_type": "code",
   "execution_count": 22,
   "id": "58e27867-7a0b-4c8c-92cc-5456b5881911",
   "metadata": {},
   "outputs": [
    {
     "data": {
      "text/plain": [
       "['h', 'n', 'o', 'p', 't', 'y']"
      ]
     },
     "execution_count": 22,
     "metadata": {},
     "output_type": "execute_result"
    }
   ],
   "source": [
    "sorted('python')\n",
    "\n",
    "# [104,110,111,112,116,121]"
   ]
  },
  {
   "cell_type": "code",
   "execution_count": 24,
   "id": "8426be12-bad0-44c5-a36e-f507e8d18a51",
   "metadata": {},
   "outputs": [
    {
     "data": {
      "text/plain": [
       "['y', 't', 'p', 'o', 'n', 'h']"
      ]
     },
     "execution_count": 24,
     "metadata": {},
     "output_type": "execute_result"
    }
   ],
   "source": [
    "sorted('python',reverse=True)"
   ]
  },
  {
   "cell_type": "code",
   "execution_count": 25,
   "id": "8b6b45e4-88ef-445c-ae00-3d4fa0e2200d",
   "metadata": {},
   "outputs": [
    {
     "ename": "TypeError",
     "evalue": "sorted expected 1 argument, got 0",
     "output_type": "error",
     "traceback": [
      "\u001b[1;31m---------------------------------------------------------------------------\u001b[0m",
      "\u001b[1;31mTypeError\u001b[0m                                 Traceback (most recent call last)",
      "Cell \u001b[1;32mIn[25], line 1\u001b[0m\n\u001b[1;32m----> 1\u001b[0m \u001b[38;5;28msorted\u001b[39m(iterable\u001b[38;5;241m=\u001b[39m\u001b[38;5;124m'\u001b[39m\u001b[38;5;124mpython\u001b[39m\u001b[38;5;124m'\u001b[39m,reverse\u001b[38;5;241m=\u001b[39m\u001b[38;5;28;01mTrue\u001b[39;00m)\n",
      "\u001b[1;31mTypeError\u001b[0m: sorted expected 1 argument, got 0"
     ]
    }
   ],
   "source": [
    "sorted(iterable='python',reverse=True)\n",
    "# If you see any / \n",
    "# do not assign any arguments before the slash"
   ]
  },
  {
   "cell_type": "code",
   "execution_count": 29,
   "id": "a763745e-a7db-4be1-83b9-ac8c94541046",
   "metadata": {},
   "outputs": [
    {
     "data": {
      "text/plain": [
       "(2+3j)"
      ]
     },
     "execution_count": 29,
     "metadata": {},
     "output_type": "execute_result"
    }
   ],
   "source": [
    "complex() # it is written\n",
    "complex(2,3) # w\n",
    "complex(real=2,imag=3) # w\n",
    "complex(real=2,3) # F\n",
    "complex(2,imag=3) # w\n",
    "\n",
    "# why failed for complex(real=2,3)"
   ]
  },
  {
   "cell_type": "code",
   "execution_count": 27,
   "id": "86b6f88c-b506-49dd-a729-2278729564bd",
   "metadata": {},
   "outputs": [],
   "source": [
    "import random\n",
    "random.randint()  # F\n",
    "random.randint(10,20) # w\n",
    "random.randint(a=10,b=20) # w\n",
    "random.randint(c=20,d=50) # F\n",
    "random.randint(a=10,20)\n",
    "random.randint(10,b=20)"
   ]
  },
  {
   "cell_type": "code",
   "execution_count": null,
   "id": "25c548f6-669b-44cd-92ee-19a4d556149a",
   "metadata": {},
   "outputs": [],
   "source": [
    "0+0j\n",
    "0j\n",
    "0\n",
    "NT"
   ]
  },
  {
   "cell_type": "markdown",
   "id": "4087d978-1e98-4ba8-a895-d5d08280cc52",
   "metadata": {},
   "source": [
    "**in**"
   ]
  },
  {
   "cell_type": "code",
   "execution_count": 32,
   "id": "e0f955d7-beb7-47e1-a441-3d5661aacaf7",
   "metadata": {},
   "outputs": [
    {
     "name": "stdout",
     "output_type": "stream",
     "text": [
      "a\n",
      "a\n",
      "a\n",
      "3\n"
     ]
    }
   ],
   "source": [
    "## WAP ask the user get the number of 'a' in a given string\n",
    "str1='hello how are you, im anand'\n",
    "# count=0\n",
    "# iterate through each letter\n",
    "# if that letter equal to 'a'\n",
    "# then count=count+1\n",
    "\n",
    "count=0\n",
    "for i in str1:\n",
    "    if i=='a':\n",
    "        print(i)\n",
    "        count=count+1\n",
    "\n",
    "print(count)\n",
    "\n",
    "# step-1: i='a'  if 'a'=='a'   True"
   ]
  },
  {
   "cell_type": "markdown",
   "id": "661b649d-92f3-4474-a71d-11a8c5a27730",
   "metadata": {},
   "source": [
    "- intialisation of strings \n",
    "\n",
    "- type\n",
    "\n",
    "- print\n",
    "\n",
    "- len\n",
    "\n",
    "- min\n",
    "\n",
    "- max\n",
    "\n",
    "- sorted\n",
    "\n",
    "- reversed\n",
    "\n",
    "- in "
   ]
  },
  {
   "cell_type": "markdown",
   "id": "df832373-80a8-4de5-a989-7df86ebc8c0f",
   "metadata": {},
   "source": [
    "**index**"
   ]
  },
  {
   "cell_type": "code",
   "execution_count": 1,
   "id": "e36023da-10f9-4a92-bf3a-12bb1efabf2c",
   "metadata": {},
   "outputs": [
    {
     "data": {
      "text/plain": [
       "'h'"
      ]
     },
     "execution_count": 1,
     "metadata": {},
     "output_type": "execute_result"
    }
   ],
   "source": [
    "str1='hello python'\n",
    "# In python index start with zero\n",
    "str1[0]\n",
    "str1[1]\n",
    "str1[2]\n",
    "str1[3]\n",
    "\n",
    "str1[i]"
   ]
  },
  {
   "cell_type": "code",
   "execution_count": null,
   "id": "258dce56-fd92-45c0-8088-72755310071d",
   "metadata": {},
   "outputs": [],
   "source": [
    "h  e   l   l   o     p   y   t   h   o   n\n",
    "0  1   2   3   4  5  6   7   8   9  10   11"
   ]
  },
  {
   "cell_type": "code",
   "execution_count": 4,
   "id": "fc817fe0-13dd-4e7f-a024-81b4e1c74811",
   "metadata": {},
   "outputs": [
    {
     "data": {
      "text/plain": [
       "12"
      ]
     },
     "execution_count": 4,
     "metadata": {},
     "output_type": "execute_result"
    }
   ],
   "source": [
    "len(str1)"
   ]
  },
  {
   "cell_type": "code",
   "execution_count": 3,
   "id": "4cc4e4a6-45c7-4a1f-9a93-fbad2261f0ac",
   "metadata": {},
   "outputs": [
    {
     "name": "stdout",
     "output_type": "stream",
     "text": [
      "0 h\n",
      "1 e\n",
      "2 l\n",
      "3 l\n",
      "4 o\n",
      "5  \n",
      "6 p\n",
      "7 y\n",
      "8 t\n",
      "9 h\n",
      "10 o\n",
      "11 n\n"
     ]
    }
   ],
   "source": [
    "for i in range(12):\n",
    "    print(i,str1[i])"
   ]
  },
  {
   "cell_type": "code",
   "execution_count": 5,
   "id": "4d3aa8a2-c630-42bc-8f88-282de253b052",
   "metadata": {},
   "outputs": [
    {
     "name": "stdout",
     "output_type": "stream",
     "text": [
      "0 n\n",
      "1 a\n",
      "2 r\n",
      "3 e\n",
      "4 s\n",
      "5 h\n",
      "6  \n",
      "7 i\n",
      "8 t\n"
     ]
    }
   ],
   "source": [
    "str1='naresh it'\n",
    "n=len(str1)\n",
    "for i in range(n):\n",
    "    print(i,str1[i])"
   ]
  },
  {
   "cell_type": "code",
   "execution_count": null,
   "id": "e92303ed-52f4-4652-9d7e-6fcb5f853016",
   "metadata": {},
   "outputs": [],
   "source": [
    "-12  -11  -10  -9  -8  -7  -6  -5  -4   -3  -2  -1                                     -2    -1\n",
    " h    e    l   l    o       p   y   t   h   o   n\n",
    " 0    1    2   3    4  5    6   7   8   9  10   11"
   ]
  },
  {
   "cell_type": "code",
   "execution_count": 8,
   "id": "83f9423c-2e4c-40d3-9ac1-50d005788f48",
   "metadata": {},
   "outputs": [
    {
     "data": {
      "text/plain": [
       "('h', 'h')"
      ]
     },
     "execution_count": 8,
     "metadata": {},
     "output_type": "execute_result"
    }
   ],
   "source": [
    "str1='hello python'\n",
    "str1[-12], str1[0]"
   ]
  },
  {
   "cell_type": "code",
   "execution_count": 10,
   "id": "e26cae46-e452-45c0-a495-8969f56cd2bc",
   "metadata": {},
   "outputs": [
    {
     "data": {
      "text/plain": [
       "'l'"
      ]
     },
     "execution_count": 10,
     "metadata": {},
     "output_type": "execute_result"
    }
   ],
   "source": [
    "str1[-12]\n",
    "str1[-11]\n",
    "str1[-10]\n",
    "\n",
    "# hello python\n",
    "# -12  -1"
   ]
  },
  {
   "cell_type": "code",
   "execution_count": 12,
   "id": "354d3c99-95e3-41c6-a73f-04407039fd38",
   "metadata": {},
   "outputs": [
    {
     "name": "stdout",
     "output_type": "stream",
     "text": [
      "-12 h -11 e -10 l -9 l -8 o -7   -6 p -5 y -4 t -3 h -2 o -1 n "
     ]
    }
   ],
   "source": [
    "for i in range(-12,0):\n",
    "    print(i,str1[i],end=' ' )"
   ]
  },
  {
   "cell_type": "code",
   "execution_count": 13,
   "id": "9e14f7f2-4b93-49f7-88d4-f0c7ac7cf5b7",
   "metadata": {},
   "outputs": [
    {
     "name": "stdout",
     "output_type": "stream",
     "text": [
      "-12 h\n",
      "-11 e\n",
      "-10 l\n",
      "-9 l\n",
      "-8 o\n",
      "-7  \n",
      "-6 p\n",
      "-5 y\n",
      "-4 t\n",
      "-3 h\n",
      "-2 o\n",
      "-1 n\n"
     ]
    }
   ],
   "source": [
    "str1='hello python'\n",
    "n=len(str1)\n",
    "for i in range(-n,0):\n",
    "    print(i,str1[i] )"
   ]
  },
  {
   "cell_type": "markdown",
   "id": "d3f7b140-510a-4459-864a-3c541a2d062a",
   "metadata": {},
   "source": [
    "**postive index**"
   ]
  },
  {
   "cell_type": "code",
   "execution_count": null,
   "id": "f12af581-6255-40ef-be41-dc1904b361ae",
   "metadata": {},
   "outputs": [],
   "source": [
    "str1='naresh it'\n",
    "n=len(str1)\n",
    "for i in range(n):\n",
    "    print(i,str1[i])"
   ]
  },
  {
   "cell_type": "markdown",
   "id": "750f02cb-63c2-4bdb-883e-77c92ff1b80c",
   "metadata": {},
   "source": [
    "**negative index**\n"
   ]
  },
  {
   "cell_type": "code",
   "execution_count": null,
   "id": "e08db09a-e12d-40ed-9d40-9231debb764c",
   "metadata": {},
   "outputs": [],
   "source": [
    "str1='hello python'\n",
    "n=len(str1)\n",
    "for i in range(-n,0):\n",
    "    print(i,str1[i] )"
   ]
  },
  {
   "cell_type": "code",
   "execution_count": null,
   "id": "e3e7e21c-6752-4867-a988-ed6ca2dea519",
   "metadata": {},
   "outputs": [],
   "source": [
    "#Q2) WAP to print the each letter index postive way\n",
    "#    the postive index of h is  0\n",
    "#    the postive index of e is 1\n",
    "\n",
    "#Q3) WAP to print the each letter index negative way\n",
    "#    the negative index of h is  -12\n",
    "#    the negative index of e is -11\n",
    "\n",
    "#Q4) WAP to print the each letter index postive and negative way(single for loop)\n",
    "#    the postive index of h is  0 and negative index of h is -12\n",
    "#    the postive index of e is 1  and negative index of e is -11"
   ]
  },
  {
   "cell_type": "code",
   "execution_count": null,
   "id": "0d28fa71-9448-4404-9f64-6433029f6b02",
   "metadata": {},
   "outputs": [],
   "source": [
    "#Q2) WAP to print the each letter index postive way\n",
    "#    the postive index of h is  0\n",
    "#    the postive index of e is 1\n",
    "str1='hello python'\n",
    "n=len(str1)\n",
    "for i in range(n):\n",
    "    print(i,str1[i])"
   ]
  },
  {
   "cell_type": "code",
   "execution_count": 24,
   "id": "eff6512a-3aec-4d95-a4b2-2fb8630e4bde",
   "metadata": {},
   "outputs": [
    {
     "name": "stdout",
     "output_type": "stream",
     "text": [
      "0 -12\n",
      "1 -11\n",
      "2 -10\n",
      "3 -9\n",
      "4 -8\n",
      "5 -7\n",
      "6 -6\n",
      "7 -5\n",
      "8 -4\n",
      "9 -3\n",
      "10 -2\n",
      "11 -1\n"
     ]
    }
   ],
   "source": [
    "# for i in range(len(str1)):\n",
    "#     print(i,end=' ')\n",
    "\n",
    "# for i in range(-len(str1),0):\n",
    "#     print(i)\n",
    "\n",
    "for i in range(len(str1)):\n",
    "    print(i,i-len(str1))\n",
    "\n",
    "# -12  -11  -10  -9  -8  -7  -6  -5  -4   -3  -2  -1                                     -2    -1\n",
    "#  h    e    l   l    o       p   y   t   h   o   n\n",
    "#  0    1    2   3    4  5    6   7   8   9  10   11"
   ]
  },
  {
   "cell_type": "code",
   "execution_count": 25,
   "id": "b5fef582-942d-40ab-8664-5d6579ad1669",
   "metadata": {},
   "outputs": [
    {
     "name": "stdout",
     "output_type": "stream",
     "text": [
      "the positive index of H is 0\n",
      "the positive index of e is 1\n",
      "the positive index of l is 2\n",
      "the positive index of l is 3\n",
      "the positive index of o is 4\n",
      "the positive index of   is 5\n",
      "the positive index of P is 6\n",
      "the positive index of y is 7\n",
      "the positive index of t is 8\n",
      "the positive index of h is 9\n",
      "the positive index of o is 10\n",
      "the positive index of n is 11\n"
     ]
    }
   ],
   "source": [
    "for i in range(len(str1)):\n",
    "    print(f\"the positive index of {str1[i]} is {i}\")"
   ]
  },
  {
   "cell_type": "code",
   "execution_count": 26,
   "id": "50ed5458-33c9-4a2c-b1c8-93fe88001197",
   "metadata": {},
   "outputs": [
    {
     "name": "stdout",
     "output_type": "stream",
     "text": [
      "the negative index of H is -12\n",
      "the negative index of e is -11\n",
      "the negative index of l is -10\n",
      "the negative index of l is -9\n",
      "the negative index of o is -8\n",
      "the negative index of   is -7\n",
      "the negative index of P is -6\n",
      "the negative index of y is -5\n",
      "the negative index of t is -4\n",
      "the negative index of h is -3\n",
      "the negative index of o is -2\n",
      "the negative index of n is -1\n"
     ]
    }
   ],
   "source": [
    "for i in range(len(str1)):\n",
    "    print(f\"the negative index of {str1[i]} is {i-len(str1)}\")"
   ]
  },
  {
   "cell_type": "code",
   "execution_count": 28,
   "id": "305ee22e-2b4f-4096-8832-508380cf80bf",
   "metadata": {},
   "outputs": [
    {
     "name": "stdout",
     "output_type": "stream",
     "text": [
      "the positive index of H is 0 and the negative index of H is -12\n",
      "the positive index of e is 1 and the negative index of e is -11\n",
      "the positive index of l is 2 and the negative index of l is -10\n",
      "the positive index of l is 3 and the negative index of l is -9\n",
      "the positive index of o is 4 and the negative index of o is -8\n",
      "the positive index of   is 5 and the negative index of   is -7\n",
      "the positive index of P is 6 and the negative index of P is -6\n",
      "the positive index of y is 7 and the negative index of y is -5\n",
      "the positive index of t is 8 and the negative index of t is -4\n",
      "the positive index of h is 9 and the negative index of h is -3\n",
      "the positive index of o is 10 and the negative index of o is -2\n",
      "the positive index of n is 11 and the negative index of n is -1\n"
     ]
    }
   ],
   "source": [
    "for i in range(len(str1)):\n",
    "    print(f\"the positive index of {str1[i]} is {i} and the negative index of {str1[i]} is {i-len(str1)}\")"
   ]
  },
  {
   "cell_type": "code",
   "execution_count": null,
   "id": "2bb07ab3-2d1b-4c48-9d5c-bb29dada4762",
   "metadata": {},
   "outputs": [],
   "source": [
    "for i in range(len(str1)):\n",
    "    print(f\"the positive index of {str1[i]} is {i}\")\n",
    "\n",
    "for i in range(len(str1)):\n",
    "    print(f\"the negative index of {str1[i]} is {i-len(str1)}\")\n",
    "\n",
    "for i in range(len(str1)):\n",
    "    print(f\"the positive index of {str1[i]} is {i} and the negative index of {str1[i]} is {i-len(str1)}\")"
   ]
  },
  {
   "cell_type": "code",
   "execution_count": null,
   "id": "0e71be79-2e29-4986-a114-269a0972860c",
   "metadata": {},
   "outputs": [],
   "source": [
    "# Q5) WAP ask the user get the indexes of occurences of 'a' in a given string\n",
    "# str1='avaialable'\n",
    "\n",
    "# Iterate through str1\n",
    "# apply the if condition if charcter == a\n",
    "# then print that i"
   ]
  },
  {
   "cell_type": "markdown",
   "id": "9dad02f5-8336-4dd3-9fc0-01d496e4bd5c",
   "metadata": {},
   "source": [
    "**when to use in and when to use range operator**\n",
    "\n",
    "**Note**\n",
    "\n",
    "- in operator  'i'  represents directly a letter\n",
    "\n",
    "- range operator 'i' represents a number\n",
    "\n",
    "- if you want to print the letters using range operator\n",
    "\n",
    "  then indexing"
   ]
  },
  {
   "cell_type": "code",
   "execution_count": 29,
   "id": "13c422df-aaf0-41bd-bc2a-2e7c17985ed4",
   "metadata": {},
   "outputs": [
    {
     "name": "stdout",
     "output_type": "stream",
     "text": [
      "a\n",
      "v\n",
      "a\n",
      "i\n",
      "l\n",
      "a\n",
      "b\n",
      "l\n",
      "e\n"
     ]
    }
   ],
   "source": [
    "# In this case  i ===== > represents  letter\n",
    "str1= 'available'\n",
    "for i in str1:\n",
    "    print(i)"
   ]
  },
  {
   "cell_type": "code",
   "execution_count": 31,
   "id": "a57906e2-04d8-457d-b54c-028b57c0b4ef",
   "metadata": {},
   "outputs": [
    {
     "name": "stdout",
     "output_type": "stream",
     "text": [
      "a\n",
      "v\n",
      "a\n",
      "i\n",
      "l\n",
      "a\n",
      "b\n",
      "l\n",
      "e\n"
     ]
    }
   ],
   "source": [
    "# In this case  i ==== > represents a number i.e. index\n",
    "str1= 'available'\n",
    "for i in range(len(str1)):\n",
    "    print(str1[i])"
   ]
  },
  {
   "cell_type": "code",
   "execution_count": 32,
   "id": "fdefa7cf-131b-4a1f-9412-d55b184fbf85",
   "metadata": {},
   "outputs": [
    {
     "name": "stdout",
     "output_type": "stream",
     "text": [
      "0\n",
      "2\n",
      "5\n"
     ]
    }
   ],
   "source": [
    "str1= 'available'\n",
    "for i in range(len(str1)):\n",
    "    if str1[i]=='a':\n",
    "        print(i)\n",
    "\n",
    "# i=0  str1[0]='a'  a=='a'   True  print(o)\n",
    "# i=1  str1[1]=='a'  'v'=='a'  False\n",
    "# i=2  str1[2]=='a'  'a'=='a'   True  print(2)"
   ]
  },
  {
   "cell_type": "code",
   "execution_count": 33,
   "id": "0b5cca8c-e5ac-4d30-8ce7-cd1130f7d81a",
   "metadata": {},
   "outputs": [
    {
     "name": "stdout",
     "output_type": "stream",
     "text": [
      "the 1 occurence of 'a' is 0\n",
      "the 2 occurence of 'a' is 2\n",
      "the 3 occurence of 'a' is 5\n"
     ]
    }
   ],
   "source": [
    "#Q6)Print  the  1 occurence of 'a' index is 0\n",
    "#       the 2 occurence of 'a' index  is 2\n",
    "#       the 3 occurence of 'a' index   is 5\n",
    "\n",
    "count=0\n",
    "str1= 'available'\n",
    "for i in range(len(str1)):\n",
    "    if str1[i]=='a':\n",
    "        count=count+1\n",
    "        print(f\"the {count} occurence of 'a' is {i}\")"
   ]
  },
  {
   "cell_type": "code",
   "execution_count": 34,
   "id": "6eb0754a-0881-4ad1-a43d-269d3fc33d5e",
   "metadata": {},
   "outputs": [
    {
     "name": "stdout",
     "output_type": "stream",
     "text": [
      "The count of indexes of all occurence of 'a' is 3\n",
      "The sum of indexes of all occurence of 'a' is 7\n"
     ]
    }
   ],
   "source": [
    "# Q7)  Get the sum of all the indexes\n",
    "#      Get the count of all occurences :3\n",
    "str1 = \"available\"\n",
    "count = 0\n",
    "summ = 0\n",
    "for i in range(len(str1)):\n",
    "    if str1[i]=='a':\n",
    "        count = count+1\n",
    "        summ = summ+i\n",
    "print(f\"The count of indexes of all occurence of 'a' is {count}\")\n",
    "print(f\"The sum of indexes of all occurence of 'a' is {summ}\")"
   ]
  },
  {
   "cell_type": "code",
   "execution_count": null,
   "id": "6bb42766-70cd-4e3f-adeb-340e2d2d603d",
   "metadata": {},
   "outputs": [],
   "source": [
    "#Q8) \n",
    "# A)Find the vowels in the given string\n",
    "# str1: hai how are you\n",
    "# B)Find the indexes of vowels\n",
    "# C)Find the count of the vowels\n",
    "# D)Find the sum of before index of vowels"
   ]
  },
  {
   "cell_type": "code",
   "execution_count": 35,
   "id": "e561eced-e33e-4d57-8fbd-46f189efe664",
   "metadata": {},
   "outputs": [
    {
     "name": "stdout",
     "output_type": "stream",
     "text": [
      "i o a e o u "
     ]
    }
   ],
   "source": [
    "str='hi how are you'\n",
    "for i in range(len(str)):\n",
    "    if str[i] in 'aeiou':\n",
    "        print(str[i], end=' ')\n",
    "\n",
    "# 'h' in 'aeiou'   False\n",
    "# 'i'  in 'aeiou'  True"
   ]
  },
  {
   "cell_type": "markdown",
   "id": "6755929a-0240-4b52-9847-cb7f7a480584",
   "metadata": {},
   "source": [
    "**mutable-immutable**\n",
    "\n",
    "- Values can not change using Index operations called as **immutable**\n",
    "\n",
    "- some thing can be change\n",
    "\n",
    "- here if we want to change a prticular letter at particular index\n",
    "\n",
    "- 'hello' :  3rd index is 'l', i want to change 'l' to 'L'\n",
    "\n",
    "- 'heLlo'\n",
    "\n",
    "- **by using index operation**\n",
    "\n",
    "- **STRINGS ARE IMMUTABLE**"
   ]
  },
  {
   "cell_type": "code",
   "execution_count": 2,
   "id": "3a27bbff-d04c-49df-9dc8-7e1a3c04a703",
   "metadata": {},
   "outputs": [
    {
     "ename": "TypeError",
     "evalue": "'str' object does not support item assignment",
     "output_type": "error",
     "traceback": [
      "\u001b[1;31m---------------------------------------------------------------------------\u001b[0m",
      "\u001b[1;31mTypeError\u001b[0m                                 Traceback (most recent call last)",
      "Cell \u001b[1;32mIn[2], line 3\u001b[0m\n\u001b[0;32m      1\u001b[0m \u001b[38;5;66;03m# I want replace 'p' with 'P'\u001b[39;00m\n\u001b[0;32m      2\u001b[0m str1\u001b[38;5;241m=\u001b[39m\u001b[38;5;124m'\u001b[39m\u001b[38;5;124mpython\u001b[39m\u001b[38;5;124m'\u001b[39m\n\u001b[1;32m----> 3\u001b[0m str1[\u001b[38;5;241m0\u001b[39m]\u001b[38;5;241m=\u001b[39m\u001b[38;5;124m'\u001b[39m\u001b[38;5;124mP\u001b[39m\u001b[38;5;124m'\u001b[39m\n",
      "\u001b[1;31mTypeError\u001b[0m: 'str' object does not support item assignment"
     ]
    }
   ],
   "source": [
    "# I want replace 'p' with 'P'\n",
    "str1='python'\n",
    "str1[0]='P'"
   ]
  },
  {
   "cell_type": "code",
   "execution_count": 4,
   "id": "2516c3d0-7d95-44c1-8eaf-6640e876f49c",
   "metadata": {},
   "outputs": [
    {
     "data": {
      "text/plain": [
       "[100, 20, 30]"
      ]
     },
     "execution_count": 4,
     "metadata": {},
     "output_type": "execute_result"
    }
   ],
   "source": [
    "l=[10,20,30]\n",
    "l[0]=100\n",
    "l"
   ]
  },
  {
   "cell_type": "markdown",
   "id": "40b11e2e-2dc9-4742-8140-d3ec70ac6905",
   "metadata": {},
   "source": [
    "- mutable:  it can change\n",
    "\n",
    "- imutable: it can't change\n",
    "\n",
    "- **strings are immutable**"
   ]
  },
  {
   "cell_type": "markdown",
   "id": "5ed3366a-7556-4b32-b31a-a70eaa66b987",
   "metadata": {},
   "source": [
    "**slice**\n",
    "\n",
    "- cut into pieces\n",
    "\n",
    "- which means we can extract some part of string\n",
    "\n",
    "- For that we need to undertsand the start , stop, step\n",
    "\n",
    "- s[start:stop:step]\n",
    "\n"
   ]
  },
  {
   "cell_type": "markdown",
   "id": "d0fbfae7-cf6f-4578-a4db-2ed88b25d04d",
   "metadata": {},
   "source": [
    "$pattern-1$\n",
    "\n",
    "**str1[:stop]**\n",
    "\n",
    "- Nothing mentioned at start place:  0\n",
    "\n",
    "- direction nothing mentioned means postive\n",
    "\n",
    "- step size also nothing mentioned means 1\n",
    "  \n",
    "- last=stop-1"
   ]
  },
  {
   "cell_type": "code",
   "execution_count": 3,
   "id": "95cf63bb-31d9-4b37-84b6-ece7cf36e50f",
   "metadata": {},
   "outputs": [
    {
     "data": {
      "text/plain": [
       "'hai '"
      ]
     },
     "execution_count": 3,
     "metadata": {},
     "output_type": "execute_result"
    }
   ],
   "source": [
    "str1=\"hai how are you\"\n",
    "# start=0\n",
    "# last =(stop)-1   stop:3\n",
    "#  range(0,3)  or  range(3)\n",
    "# str1[start:stop]\n",
    "\n",
    "str1[4]  # index\n",
    "str1[:4] #  <start>:<stop>\n",
    "# Nothing mentioned means '0'\n",
    "# 0  1  2  3\n",
    "# h  a  i  ''"
   ]
  },
  {
   "cell_type": "markdown",
   "id": "e7f308a7-fa88-45a5-992b-fe6fef2f0c16",
   "metadata": {},
   "source": [
    "$pattern-2$\n",
    "\n",
    "**str1[start:]**"
   ]
  },
  {
   "cell_type": "code",
   "execution_count": 4,
   "id": "8bf98e1a-1477-4350-8882-f878f38371bd",
   "metadata": {},
   "outputs": [
    {
     "data": {
      "text/plain": [
       "'ow are you'"
      ]
     },
     "execution_count": 4,
     "metadata": {},
     "output_type": "execute_result"
    }
   ],
   "source": [
    "str1=\"hai how are you\"\n",
    "str1[5:]\n",
    "# start=5\n",
    "# nothing mentioned means till last\n",
    "# direction nothing mentioned is postive\n",
    "# step  size nothing mentioned means +1"
   ]
  },
  {
   "cell_type": "markdown",
   "id": "d962c57f-ed3d-4ca4-b2c8-9e2675366734",
   "metadata": {},
   "source": [
    "$pattern-3$\n",
    "\n",
    "**str1[:]**\n",
    "\n",
    "- Nothing mentiond at start place: 0\n",
    "\n",
    "- Nothing mentioned at last place:  till end\n",
    "\n",
    "- Direction +ve\n",
    "\n",
    "- step  1"
   ]
  },
  {
   "cell_type": "markdown",
   "id": "b109ef08-566f-4650-b28d-af50d20cd220",
   "metadata": {},
   "source": [
    "$pattern-4$\n",
    "\n",
    "str1[start:stop]\n",
    "\n",
    "- start place means : start value\n",
    "\n",
    "- direction postive\n",
    "\n",
    "- step size +1\n",
    "  \n",
    "- last= stop-1"
   ]
  },
  {
   "cell_type": "markdown",
   "id": "78b51604-23e8-4caa-902f-a7a542b82dc5",
   "metadata": {},
   "source": [
    "$pattern-5$\n",
    "\n",
    "**str1[start:stop:step]**\n",
    "\n",
    "- start place means: start value\n",
    "\n",
    "- step value direction postive\n",
    "\n",
    "    - last= stop-1\n",
    " \n",
    "- step value direction negative:\n",
    "\n",
    "   - last= stop+1"
   ]
  },
  {
   "cell_type": "code",
   "execution_count": 6,
   "id": "9a588820-2a74-4d2e-8f74-a9270b6fc457",
   "metadata": {},
   "outputs": [
    {
     "data": {
      "text/plain": [
       "'llo pyth'"
      ]
     },
     "execution_count": 6,
     "metadata": {},
     "output_type": "execute_result"
    }
   ],
   "source": [
    "# -12  -11  -10  -9  -8  -7  -6  -5  -4   -3  -2  -1                                     -2    -1\n",
    "#  h    e    l   l    o       p   y   t   h   o   n\n",
    "#  0    1    2   3    4  5    6   7   8   9  10   11\n",
    "\n",
    "str='hello python'\n",
    "str[2:10] \n",
    "# start=2\n",
    "# direc=postive\n",
    "# last=stop-1=10-1=9"
   ]
  },
  {
   "cell_type": "code",
   "execution_count": 7,
   "id": "4c39d27e-7399-4425-9d96-33b09e0baa22",
   "metadata": {},
   "outputs": [
    {
     "data": {
      "text/plain": [
       "'lopt'"
      ]
     },
     "execution_count": 7,
     "metadata": {},
     "output_type": "execute_result"
    }
   ],
   "source": [
    "# -12  -11  -10  -9  -8  -7  -6  -5  -4   -3  -2  -1                                     -2    -1\n",
    "#  h    e    l   l    o       p   y   t   h   o   n\n",
    "#  0    1    2   3    4  5    6   7   8   9  10   11\n",
    "str='hello python'\n",
    "str[2:10:2]"
   ]
  },
  {
   "cell_type": "code",
   "execution_count": 8,
   "id": "f52abd7d-a955-46f5-a3c4-a33b6ca0a696",
   "metadata": {},
   "outputs": [
    {
     "data": {
      "text/plain": [
       "''"
      ]
     },
     "execution_count": 8,
     "metadata": {},
     "output_type": "execute_result"
    }
   ],
   "source": [
    "str='hello python'\n",
    "str[2:10:-2]\n",
    "# strat=2\n",
    "# direction= -negative\n",
    "# last= stop+1= 10+1=11\n",
    "# 2 ===== 11  (actual postive)\n",
    "# code says negative it is not possibile"
   ]
  },
  {
   "cell_type": "code",
   "execution_count": 10,
   "id": "f043ac07-ef8c-4262-84df-9dd1f1bbcf48",
   "metadata": {},
   "outputs": [
    {
     "data": {
      "text/plain": [
       "'y le'"
      ]
     },
     "execution_count": 10,
     "metadata": {},
     "output_type": "execute_result"
    }
   ],
   "source": [
    "# -12  -11  -10  -9  -8  -7  -6  -5  -4   -3  -2  -1                                     -2    -1\n",
    "#  h    e    l   l    o       p   y   t   h   o   n\n",
    "#  0    1    2   3    4  5    6   7   8   9  10   11\n",
    "str='hello python'\n",
    "str[7:-12:-2]"
   ]
  },
  {
   "cell_type": "code",
   "execution_count": 14,
   "id": "eb13af39-75a4-46c4-99e1-cc38890e8b0e",
   "metadata": {},
   "outputs": [
    {
     "data": {
      "text/plain": [
       "'lop'"
      ]
     },
     "execution_count": 14,
     "metadata": {},
     "output_type": "execute_result"
    }
   ],
   "source": [
    "# -12  -11  -10  -9  -8  -7  -6  -5  -4   -3  -2  -1                                     -2    -1\n",
    "#  h    e    l   l    o       p   y   t   h   o   n\n",
    "#  0    1    2   3    4  5    6   7   8   9  10   11\n",
    "str='hello python'\n",
    "str[2:-4:2]\n",
    "\n",
    "# start=2\n",
    "# dire=posr\n",
    "# last=stop-1= -4-1=-5"
   ]
  },
  {
   "cell_type": "code",
   "execution_count": null,
   "id": "7b14ff9f-2a43-41f2-95dc-21227eb38d1d",
   "metadata": {},
   "outputs": [],
   "source": [
    "# -12  -11  -10  -9  -8  -7  -6  -5  -4   -3  -2  -1                                     -2    -1\n",
    "#  h    e    l   l    o       p   y   t   h   o   n\n",
    "#  0    1    2   3    4  5    6   7   8   9  10   11\n",
    "str1[2:12:2] # P\n",
    "str1[2:12:-2] # NP\n",
    "str1[2:-12:2] # NP\n",
    "str1[2:-12:-2] # P\n",
    "str1[-2:-12:-2] # P\n",
    "str1[-2:12:2] # P ============== \n",
    "str1[-2:-12:2] # NP\n",
    "str1[:]#  ALL\n",
    "str1[2:] # start=2  last=last\n",
    "str1[:12] # start=0  last=12-1=11\n",
    "str1[::]  # start=0  last=last step=1\n",
    "str1[::-1] # reverse string"
   ]
  },
  {
   "cell_type": "code",
   "execution_count": 16,
   "id": "f3b4d358-f8d9-412f-8312-a78e46825b1d",
   "metadata": {},
   "outputs": [
    {
     "data": {
      "text/plain": [
       "'o'"
      ]
     },
     "execution_count": 16,
     "metadata": {},
     "output_type": "execute_result"
    }
   ],
   "source": [
    "str1[-2:20:2]\n"
   ]
  },
  {
   "cell_type": "code",
   "execution_count": 19,
   "id": "db9a075d-d997-4da9-bebb-565fc7ca2682",
   "metadata": {},
   "outputs": [
    {
     "data": {
      "text/plain": [
       "'o'"
      ]
     },
     "execution_count": 19,
     "metadata": {},
     "output_type": "execute_result"
    }
   ],
   "source": [
    "str1[-2:12:2]\n",
    "# start=-2\n",
    "# direction=postive\n",
    "# last= 12-1=11\n",
    "# step=2"
   ]
  },
  {
   "cell_type": "code",
   "execution_count": 22,
   "id": "2f6475dd-378f-404a-8bff-7e2111b1a650",
   "metadata": {},
   "outputs": [
    {
     "data": {
      "text/plain": [
       "'lh'"
      ]
     },
     "execution_count": 22,
     "metadata": {},
     "output_type": "execute_result"
    }
   ],
   "source": [
    "# -12  -11  -10  -9  -8  -7  -6  -5  -4   -3  -2  -1                                     -2    -1\n",
    "#  h    e    l   l    o       p   y   t   h   o   n\n",
    "#  0    1    2   3    4  5    6   7   8   9  10   11\n",
    "str='hello python'\n",
    "str[2::-2] \n",
    "# start=2\n",
    "# last =-12\n"
   ]
  },
  {
   "cell_type": "code",
   "execution_count": 24,
   "id": "ce03cd4d-d718-4587-8dfe-eaa37d5f18e4",
   "metadata": {},
   "outputs": [
    {
     "data": {
      "text/plain": [
       "'python'"
      ]
     },
     "execution_count": 24,
     "metadata": {},
     "output_type": "execute_result"
    }
   ],
   "source": [
    "str1[<start>:<stop>:<step>]"
   ]
  },
  {
   "cell_type": "code",
   "execution_count": 26,
   "id": "aaa5d7b3-c158-4104-b6b2-6f7982026637",
   "metadata": {},
   "outputs": [
    {
     "data": {
      "text/plain": [
       "'nohtyp olleh'"
      ]
     },
     "execution_count": 26,
     "metadata": {},
     "output_type": "execute_result"
    }
   ],
   "source": [
    "str[::-1]"
   ]
  },
  {
   "cell_type": "markdown",
   "id": "fbab67ad-a685-41d2-ba14-ed3219db91f1",
   "metadata": {},
   "source": [
    "- type\n",
    "\n",
    "- len\n",
    "\n",
    "- max\n",
    "\n",
    "- min\n",
    "\n",
    "- sum\n",
    "\n",
    "- reveresed\n",
    "\n",
    "- sorted\n",
    "\n",
    "- in\n",
    "\n",
    "- not in\n",
    "\n",
    "- for loop iterate \n",
    "\n",
    "- index\n",
    "\n",
    "- mutable immutable\n",
    "\n",
    "- slice"
   ]
  },
  {
   "cell_type": "markdown",
   "id": "b44a0034-e602-4c44-8b9a-07c6b137efb4",
   "metadata": {},
   "source": [
    "**concatenation**"
   ]
  },
  {
   "cell_type": "code",
   "execution_count": 29,
   "id": "b939b381-3274-43d0-ae43-8757fdb822d5",
   "metadata": {},
   "outputs": [
    {
     "data": {
      "text/plain": [
       "'hello  python'"
      ]
     },
     "execution_count": 29,
     "metadata": {},
     "output_type": "execute_result"
    }
   ],
   "source": [
    "str1='hello'\n",
    "str2='python'\n",
    "str1+str2\n",
    "str1+' '+str2"
   ]
  },
  {
   "cell_type": "code",
   "execution_count": null,
   "id": "d8a37a87-275b-4751-8834-a83113c143c5",
   "metadata": {},
   "outputs": [],
   "source": [
    "str1*str2  # error\n",
    "str1-str2  # error\n",
    "str1/str2  # error"
   ]
  },
  {
   "cell_type": "code",
   "execution_count": 30,
   "id": "9310cb5b-dbb1-412b-8ff2-901d2127474b",
   "metadata": {},
   "outputs": [
    {
     "ename": "TypeError",
     "evalue": "can't multiply sequence by non-int of type 'str'",
     "output_type": "error",
     "traceback": [
      "\u001b[1;31m---------------------------------------------------------------------------\u001b[0m",
      "\u001b[1;31mTypeError\u001b[0m                                 Traceback (most recent call last)",
      "Cell \u001b[1;32mIn[30], line 1\u001b[0m\n\u001b[1;32m----> 1\u001b[0m str1\u001b[38;5;241m*\u001b[39mstr2\n",
      "\u001b[1;31mTypeError\u001b[0m: can't multiply sequence by non-int of type 'str'"
     ]
    }
   ],
   "source": [
    "str1*str2"
   ]
  },
  {
   "cell_type": "code",
   "execution_count": 37,
   "id": "0ecb2009-39ee-4523-8dfb-3807643010f1",
   "metadata": {},
   "outputs": [
    {
     "data": {
      "text/plain": [
       "'hello hello hello '"
      ]
     },
     "execution_count": 37,
     "metadata": {},
     "output_type": "execute_result"
    }
   ],
   "source": [
    "str1='hello '\n",
    "str1*3"
   ]
  },
  {
   "cell_type": "code",
   "execution_count": 38,
   "id": "94d21828-9b8b-4b83-882e-96e4f4c85a4d",
   "metadata": {},
   "outputs": [
    {
     "data": {
      "text/plain": [
       "'hello hello hello '"
      ]
     },
     "execution_count": 38,
     "metadata": {},
     "output_type": "execute_result"
    }
   ],
   "source": [
    "str1+str1+str1"
   ]
  },
  {
   "cell_type": "code",
   "execution_count": 33,
   "id": "be3d7642-59dd-4d2c-87a8-0c6264175a2c",
   "metadata": {},
   "outputs": [
    {
     "ename": "TypeError",
     "evalue": "unsupported operand type(s) for -: 'str' and 'str'",
     "output_type": "error",
     "traceback": [
      "\u001b[1;31m---------------------------------------------------------------------------\u001b[0m",
      "\u001b[1;31mTypeError\u001b[0m                                 Traceback (most recent call last)",
      "Cell \u001b[1;32mIn[33], line 1\u001b[0m\n\u001b[1;32m----> 1\u001b[0m str1\u001b[38;5;241m-\u001b[39mstr2\n",
      "\u001b[1;31mTypeError\u001b[0m: unsupported operand type(s) for -: 'str' and 'str'"
     ]
    }
   ],
   "source": [
    "str1-str2"
   ]
  },
  {
   "cell_type": "code",
   "execution_count": 34,
   "id": "fc333139-165c-48b3-854c-945828154a00",
   "metadata": {},
   "outputs": [
    {
     "ename": "TypeError",
     "evalue": "unsupported operand type(s) for /: 'str' and 'str'",
     "output_type": "error",
     "traceback": [
      "\u001b[1;31m---------------------------------------------------------------------------\u001b[0m",
      "\u001b[1;31mTypeError\u001b[0m                                 Traceback (most recent call last)",
      "Cell \u001b[1;32mIn[34], line 1\u001b[0m\n\u001b[1;32m----> 1\u001b[0m str1\u001b[38;5;241m/\u001b[39mstr2\n",
      "\u001b[1;31mTypeError\u001b[0m: unsupported operand type(s) for /: 'str' and 'str'"
     ]
    }
   ],
   "source": [
    "str1/str2"
   ]
  },
  {
   "cell_type": "code",
   "execution_count": null,
   "id": "00e2c06c-ee3f-42bc-be34-bc83f43092ea",
   "metadata": {},
   "outputs": [],
   "source": [
    "# Q1) Print the postive index of each letter\n",
    "# Q2) Print the negative index of each letter\n",
    "# Q3) Print the postive and negative index of each letter\n",
    "# Q4) Wap ask to print the index of all 'a'  in a given string\n",
    "# Q5) Wap ask to print the number of 'a's  in a given string\n",
    "# Q6) Wap ask to print the sum of the index of all 'a'  in a given string\n",
    "# Q7) Wap to find the vowels in a given string\n",
    "# Q8) wap to find the number of vowels in a given string\n",
    "# Q9) wap to find the indexes of vowels in a given string\n",
    "# Q10) wap to find the sum of the indexes of vowels in a given string\n",
    "# Q11) wap to find the unique vowels in a given string"
   ]
  },
  {
   "cell_type": "markdown",
   "id": "3e2250aa-d633-44a6-92e8-9ca9076375e3",
   "metadata": {},
   "source": [
    "**String part-2**\n",
    "\n",
    "**String methods**"
   ]
  },
  {
   "cell_type": "markdown",
   "id": "30cc79b1-2e70-4901-8a2e-bee92854f2e6",
   "metadata": {},
   "source": [
    "- you need to treat strings is a package\n",
    "\n",
    "- so apply dir on any string we will get the methods"
   ]
  },
  {
   "cell_type": "code",
   "execution_count": 39,
   "id": "dc495f6b-e993-4fc3-bc7a-15e752985290",
   "metadata": {},
   "outputs": [
    {
     "data": {
      "text/plain": [
       "['__add__',\n",
       " '__class__',\n",
       " '__contains__',\n",
       " '__delattr__',\n",
       " '__dir__',\n",
       " '__doc__',\n",
       " '__eq__',\n",
       " '__format__',\n",
       " '__ge__',\n",
       " '__getattribute__',\n",
       " '__getitem__',\n",
       " '__getnewargs__',\n",
       " '__getstate__',\n",
       " '__gt__',\n",
       " '__hash__',\n",
       " '__init__',\n",
       " '__init_subclass__',\n",
       " '__iter__',\n",
       " '__le__',\n",
       " '__len__',\n",
       " '__lt__',\n",
       " '__mod__',\n",
       " '__mul__',\n",
       " '__ne__',\n",
       " '__new__',\n",
       " '__reduce__',\n",
       " '__reduce_ex__',\n",
       " '__repr__',\n",
       " '__rmod__',\n",
       " '__rmul__',\n",
       " '__setattr__',\n",
       " '__sizeof__',\n",
       " '__str__',\n",
       " '__subclasshook__',\n",
       " 'capitalize',\n",
       " 'casefold',\n",
       " 'center',\n",
       " 'count',\n",
       " 'encode',\n",
       " 'endswith',\n",
       " 'expandtabs',\n",
       " 'find',\n",
       " 'format',\n",
       " 'format_map',\n",
       " 'index',\n",
       " 'isalnum',\n",
       " 'isalpha',\n",
       " 'isascii',\n",
       " 'isdecimal',\n",
       " 'isdigit',\n",
       " 'isidentifier',\n",
       " 'islower',\n",
       " 'isnumeric',\n",
       " 'isprintable',\n",
       " 'isspace',\n",
       " 'istitle',\n",
       " 'isupper',\n",
       " 'join',\n",
       " 'ljust',\n",
       " 'lower',\n",
       " 'lstrip',\n",
       " 'maketrans',\n",
       " 'partition',\n",
       " 'removeprefix',\n",
       " 'removesuffix',\n",
       " 'replace',\n",
       " 'rfind',\n",
       " 'rindex',\n",
       " 'rjust',\n",
       " 'rpartition',\n",
       " 'rsplit',\n",
       " 'rstrip',\n",
       " 'split',\n",
       " 'splitlines',\n",
       " 'startswith',\n",
       " 'strip',\n",
       " 'swapcase',\n",
       " 'title',\n",
       " 'translate',\n",
       " 'upper',\n",
       " 'zfill']"
      ]
     },
     "execution_count": 39,
     "metadata": {},
     "output_type": "execute_result"
    }
   ],
   "source": [
    "s='python'\n",
    "dir(s)"
   ]
  },
  {
   "cell_type": "code",
   "execution_count": 40,
   "id": "d2a4b7cf-86cb-4cd0-8fd8-15a0e8aa1ff8",
   "metadata": {},
   "outputs": [
    {
     "data": {
      "text/plain": [
       "['__add__',\n",
       " '__class__',\n",
       " '__contains__',\n",
       " '__delattr__',\n",
       " '__dir__',\n",
       " '__doc__',\n",
       " '__eq__',\n",
       " '__format__',\n",
       " '__ge__',\n",
       " '__getattribute__',\n",
       " '__getitem__',\n",
       " '__getnewargs__',\n",
       " '__getstate__',\n",
       " '__gt__',\n",
       " '__hash__',\n",
       " '__init__',\n",
       " '__init_subclass__',\n",
       " '__iter__',\n",
       " '__le__',\n",
       " '__len__',\n",
       " '__lt__',\n",
       " '__mod__',\n",
       " '__mul__',\n",
       " '__ne__',\n",
       " '__new__',\n",
       " '__reduce__',\n",
       " '__reduce_ex__',\n",
       " '__repr__',\n",
       " '__rmod__',\n",
       " '__rmul__',\n",
       " '__setattr__',\n",
       " '__sizeof__',\n",
       " '__str__',\n",
       " '__subclasshook__',\n",
       " 'capitalize',\n",
       " 'casefold',\n",
       " 'center',\n",
       " 'count',\n",
       " 'encode',\n",
       " 'endswith',\n",
       " 'expandtabs',\n",
       " 'find',\n",
       " 'format',\n",
       " 'format_map',\n",
       " 'index',\n",
       " 'isalnum',\n",
       " 'isalpha',\n",
       " 'isascii',\n",
       " 'isdecimal',\n",
       " 'isdigit',\n",
       " 'isidentifier',\n",
       " 'islower',\n",
       " 'isnumeric',\n",
       " 'isprintable',\n",
       " 'isspace',\n",
       " 'istitle',\n",
       " 'isupper',\n",
       " 'join',\n",
       " 'ljust',\n",
       " 'lower',\n",
       " 'lstrip',\n",
       " 'maketrans',\n",
       " 'partition',\n",
       " 'removeprefix',\n",
       " 'removesuffix',\n",
       " 'replace',\n",
       " 'rfind',\n",
       " 'rindex',\n",
       " 'rjust',\n",
       " 'rpartition',\n",
       " 'rsplit',\n",
       " 'rstrip',\n",
       " 'split',\n",
       " 'splitlines',\n",
       " 'startswith',\n",
       " 'strip',\n",
       " 'swapcase',\n",
       " 'title',\n",
       " 'translate',\n",
       " 'upper',\n",
       " 'zfill']"
      ]
     },
     "execution_count": 40,
     "metadata": {},
     "output_type": "execute_result"
    }
   ],
   "source": [
    "dir('')"
   ]
  },
  {
   "cell_type": "code",
   "execution_count": null,
   "id": "4559c30a-9019-4d0d-8f5d-d1a35ab0805e",
   "metadata": {},
   "outputs": [],
   "source": [
    "# how to call the keyword\n",
    "  keyword()\n",
    "# methods\n",
    "#  package.method"
   ]
  },
  {
   "cell_type": "markdown",
   "id": "b3869b83-c70e-4ff3-a286-16cc061bbe41",
   "metadata": {},
   "source": [
    "$capitalize$\n",
    "\n",
    "Return a capitalized version of the string.\r\n",
    "\r\n",
    "More specifically, make the first character have upper case and the rest lower"
   ]
  },
  {
   "cell_type": "code",
   "execution_count": 48,
   "id": "9376699e-9d67-4c5b-8ae9-a7bdcd5429f3",
   "metadata": {},
   "outputs": [
    {
     "data": {
      "text/plain": [
       "'Python'"
      ]
     },
     "execution_count": 48,
     "metadata": {},
     "output_type": "execute_result"
    }
   ],
   "source": [
    "str='python'\n",
    "str.capitalize()"
   ]
  },
  {
   "cell_type": "code",
   "execution_count": 45,
   "id": "ef448ae6-4a6e-4048-a886-327a444e2b33",
   "metadata": {},
   "outputs": [
    {
     "data": {
      "text/plain": [
       "11"
      ]
     },
     "execution_count": 45,
     "metadata": {},
     "output_type": "execute_result"
    }
   ],
   "source": [
    "import random\n",
    "random.randint(10,20)"
   ]
  },
  {
   "cell_type": "code",
   "execution_count": 46,
   "id": "a9a4855e-76d5-4d36-a8ff-95eb64330d82",
   "metadata": {},
   "outputs": [
    {
     "data": {
      "text/plain": [
       "0j"
      ]
     },
     "execution_count": 46,
     "metadata": {},
     "output_type": "execute_result"
    }
   ],
   "source": [
    "complex()"
   ]
  },
  {
   "cell_type": "code",
   "execution_count": null,
   "id": "833c1421-1a62-4723-b44c-7a493034d8e8",
   "metadata": {},
   "outputs": [],
   "source": [
    "- upper\n",
    "\n",
    "- lower\n",
    "\n",
    "- casefold\n",
    "\n",
    "- center"
   ]
  },
  {
   "cell_type": "markdown",
   "id": "e8c2088c-fd4e-4c24-ab7b-27bd5f42b314",
   "metadata": {},
   "source": [
    "$upper$"
   ]
  },
  {
   "cell_type": "code",
   "execution_count": 49,
   "id": "c2583137-c699-4187-a977-b06b09daba32",
   "metadata": {},
   "outputs": [
    {
     "data": {
      "text/plain": [
       "'PYTHON'"
      ]
     },
     "execution_count": 49,
     "metadata": {},
     "output_type": "execute_result"
    }
   ],
   "source": [
    "str.upper()"
   ]
  },
  {
   "cell_type": "code",
   "execution_count": 50,
   "id": "2f2a8c0b-9843-4dd2-bfaa-3d80d151678d",
   "metadata": {},
   "outputs": [
    {
     "data": {
      "text/plain": [
       "'python'"
      ]
     },
     "execution_count": 50,
     "metadata": {},
     "output_type": "execute_result"
    }
   ],
   "source": [
    "str.lower()"
   ]
  },
  {
   "cell_type": "markdown",
   "id": "0eb7afd0-3acf-46e8-8a81-4fcfa97de2a2",
   "metadata": {},
   "source": [
    "$casefold$\n",
    "\n",
    "**Return a version of the string suitable for caseless comparisons**"
   ]
  },
  {
   "cell_type": "code",
   "execution_count": 51,
   "id": "472bde68-13a4-44cf-9486-2e51768963b1",
   "metadata": {},
   "outputs": [
    {
     "data": {
      "text/plain": [
       "'python'"
      ]
     },
     "execution_count": 51,
     "metadata": {},
     "output_type": "execute_result"
    }
   ],
   "source": [
    "str.casefold()"
   ]
  },
  {
   "cell_type": "markdown",
   "id": "95fdf95b-cdbe-4e4d-bb2c-0feedd5d8818",
   "metadata": {},
   "source": [
    "$center$"
   ]
  },
  {
   "cell_type": "code",
   "execution_count": 53,
   "id": "e6d46b84-76de-49fd-8d27-4320a9c3f88c",
   "metadata": {},
   "outputs": [
    {
     "data": {
      "text/plain": [
       "'$$python$$'"
      ]
     },
     "execution_count": 53,
     "metadata": {},
     "output_type": "execute_result"
    }
   ],
   "source": [
    "str.center(10,'$')\n",
    "# total new string width =10\n",
    "# already given string len=6\n",
    "# so extra 4 $ will add\n",
    "# string should be in center\n",
    "# 2$ are left side 2$ are right side"
   ]
  },
  {
   "cell_type": "code",
   "execution_count": 54,
   "id": "93964941-41cd-4eb0-a15e-35d7d0472997",
   "metadata": {},
   "outputs": [
    {
     "data": {
      "text/plain": [
       "'$$$python$$'"
      ]
     },
     "execution_count": 54,
     "metadata": {},
     "output_type": "execute_result"
    }
   ],
   "source": [
    "str.center(11,'$')"
   ]
  },
  {
   "cell_type": "code",
   "execution_count": 55,
   "id": "fe89c8f0-10bb-48bd-9e68-26b05c90489e",
   "metadata": {},
   "outputs": [
    {
     "data": {
      "text/plain": [
       "'$$$$$ $$$$$'"
      ]
     },
     "execution_count": 55,
     "metadata": {},
     "output_type": "execute_result"
    }
   ],
   "source": [
    "'python'.center(2,'$')"
   ]
  },
  {
   "cell_type": "code",
   "execution_count": 57,
   "id": "fd46209a-5b7e-4b4e-bdf9-b9cedbef5b5d",
   "metadata": {},
   "outputs": [
    {
     "data": {
      "text/plain": [
       "'$python'"
      ]
     },
     "execution_count": 57,
     "metadata": {},
     "output_type": "execute_result"
    }
   ],
   "source": [
    "'python'.center(7,'$')"
   ]
  },
  {
   "cell_type": "markdown",
   "id": "96716b1a-93de-4dd1-b07e-fef7a386e4cc",
   "metadata": {},
   "source": [
    "**unique vowels or items**\n",
    "\n",
    "- always make an empty string\n",
    "\n",
    "- iterate the letters of original string through for loop\n",
    "\n",
    "- whenever vowel condition match keep that letter in empty string\n",
    "\n",
    "- now onwards do the two checks\n",
    "\n",
    "    - is that vowels\n",
    "\n",
    "    - is that present in that new string"
   ]
  },
  {
   "cell_type": "code",
   "execution_count": 5,
   "id": "6c3fb694-41ba-4828-a524-e07ac8686587",
   "metadata": {},
   "outputs": [
    {
     "data": {
      "text/plain": [
       "2"
      ]
     },
     "execution_count": 5,
     "metadata": {},
     "output_type": "execute_result"
    }
   ],
   "source": [
    "str1='aabbccddee'\n",
    "str2=''\n",
    "for i in str1:\n",
    "    if i in 'aeiou':\n",
    "        if i not in str2:\n",
    "            str2=str2+i\n",
    "len(str2)"
   ]
  },
  {
   "cell_type": "code",
   "execution_count": 6,
   "id": "9b949dfc-a93b-464c-bd5d-8f223ee30b38",
   "metadata": {},
   "outputs": [
    {
     "data": {
      "text/plain": [
       "2"
      ]
     },
     "execution_count": 6,
     "metadata": {},
     "output_type": "execute_result"
    }
   ],
   "source": [
    "str1='aabbccddee'\n",
    "str2=''\n",
    "for i in str1:\n",
    "    if i in 'aeiou' and i not in str2:\n",
    "        str2=str2+i\n",
    "len(str2)\n",
    "\n",
    "#i ='a'  if  'a' in 'aeiou' and 'a' not in ''     True   str2=''+'a'='a'\n",
    "# i='a'  if  'a' in 'aeiou'  and 'a'  not in 'a'   <>"
   ]
  },
  {
   "cell_type": "code",
   "execution_count": 7,
   "id": "aeb48c66-2b10-4923-844d-23cb06c78ee3",
   "metadata": {},
   "outputs": [
    {
     "data": {
      "text/plain": [
       "False"
      ]
     },
     "execution_count": 7,
     "metadata": {},
     "output_type": "execute_result"
    }
   ],
   "source": [
    "'a'  not in 'a'"
   ]
  },
  {
   "cell_type": "code",
   "execution_count": 8,
   "id": "ed6c6ae8-9b4f-4c7b-afb4-3df6d5fce228",
   "metadata": {},
   "outputs": [
    {
     "data": {
      "text/plain": [
       "3"
      ]
     },
     "execution_count": 8,
     "metadata": {},
     "output_type": "execute_result"
    }
   ],
   "source": [
    "str9= 'aabbccddee'\n",
    "str10=' '\n",
    "for i in str9:\n",
    "    if i in 'aeiou' and i not in str10:\n",
    "        str10=str10+i\n",
    "len(str10)"
   ]
  },
  {
   "cell_type": "code",
   "execution_count": 9,
   "id": "d243ae36-92fd-499b-9db9-3d9bed5a19e9",
   "metadata": {},
   "outputs": [
    {
     "data": {
      "text/plain": [
       "' ae'"
      ]
     },
     "execution_count": 9,
     "metadata": {},
     "output_type": "execute_result"
    }
   ],
   "source": [
    "str10"
   ]
  },
  {
   "cell_type": "markdown",
   "id": "72203e0d-5a54-40d6-bd5a-5ca1799d7a68",
   "metadata": {},
   "source": [
    "- Capitalize\n",
    "\n",
    "- upper\n",
    "\n",
    "- lower\n",
    "\n",
    "- center\n",
    "\n",
    "- casefold\n",
    "\n"
   ]
  },
  {
   "cell_type": "code",
   "execution_count": 11,
   "id": "be7d21ea-e375-4832-b3c3-2cc7e619fdc3",
   "metadata": {},
   "outputs": [
    {
     "data": {
      "text/plain": [
       "['__add__',\n",
       " '__class__',\n",
       " '__contains__',\n",
       " '__delattr__',\n",
       " '__dir__',\n",
       " '__doc__',\n",
       " '__eq__',\n",
       " '__format__',\n",
       " '__ge__',\n",
       " '__getattribute__',\n",
       " '__getitem__',\n",
       " '__getnewargs__',\n",
       " '__getstate__',\n",
       " '__gt__',\n",
       " '__hash__',\n",
       " '__init__',\n",
       " '__init_subclass__',\n",
       " '__iter__',\n",
       " '__le__',\n",
       " '__len__',\n",
       " '__lt__',\n",
       " '__mod__',\n",
       " '__mul__',\n",
       " '__ne__',\n",
       " '__new__',\n",
       " '__reduce__',\n",
       " '__reduce_ex__',\n",
       " '__repr__',\n",
       " '__rmod__',\n",
       " '__rmul__',\n",
       " '__setattr__',\n",
       " '__sizeof__',\n",
       " '__str__',\n",
       " '__subclasshook__',\n",
       " 'capitalize',\n",
       " 'casefold',\n",
       " 'center',\n",
       " 'count',\n",
       " 'encode',\n",
       " 'endswith',\n",
       " 'expandtabs',\n",
       " 'find',\n",
       " 'format',\n",
       " 'format_map',\n",
       " 'index',\n",
       " 'isalnum',\n",
       " 'isalpha',\n",
       " 'isascii',\n",
       " 'isdecimal',\n",
       " 'isdigit',\n",
       " 'isidentifier',\n",
       " 'islower',\n",
       " 'isnumeric',\n",
       " 'isprintable',\n",
       " 'isspace',\n",
       " 'istitle',\n",
       " 'isupper',\n",
       " 'join',\n",
       " 'ljust',\n",
       " 'lower',\n",
       " 'lstrip',\n",
       " 'maketrans',\n",
       " 'partition',\n",
       " 'removeprefix',\n",
       " 'removesuffix',\n",
       " 'replace',\n",
       " 'rfind',\n",
       " 'rindex',\n",
       " 'rjust',\n",
       " 'rpartition',\n",
       " 'rsplit',\n",
       " 'rstrip',\n",
       " 'split',\n",
       " 'splitlines',\n",
       " 'startswith',\n",
       " 'strip',\n",
       " 'swapcase',\n",
       " 'title',\n",
       " 'translate',\n",
       " 'upper',\n",
       " 'zfill']"
      ]
     },
     "execution_count": 11,
     "metadata": {},
     "output_type": "execute_result"
    }
   ],
   "source": [
    "str='python'\n",
    "dir(str)"
   ]
  },
  {
   "cell_type": "code",
   "execution_count": 12,
   "id": "188c1775-9b8c-46e4-b980-b34b7ff09093",
   "metadata": {},
   "outputs": [
    {
     "data": {
      "text/plain": [
       "'Python'"
      ]
     },
     "execution_count": 12,
     "metadata": {},
     "output_type": "execute_result"
    }
   ],
   "source": [
    "str.title()"
   ]
  },
  {
   "cell_type": "code",
   "execution_count": 13,
   "id": "ab3d0c9c-cf41-43be-adcd-521a81a68abe",
   "metadata": {},
   "outputs": [
    {
     "data": {
      "text/plain": [
       "'Hello How Are You'"
      ]
     },
     "execution_count": 13,
     "metadata": {},
     "output_type": "execute_result"
    }
   ],
   "source": [
    "# Q: 12) str='hello how are you'\n",
    "# op: 'Hello How Are You'\n",
    "str='hello how are you'\n",
    "str.title()"
   ]
  },
  {
   "cell_type": "code",
   "execution_count": 14,
   "id": "6f674e67-8b6b-402f-af0c-07d68c327bd7",
   "metadata": {},
   "outputs": [
    {
     "data": {
      "text/plain": [
       "'Hello how are you'"
      ]
     },
     "execution_count": 14,
     "metadata": {},
     "output_type": "execute_result"
    }
   ],
   "source": [
    "str='hello how are you'\n",
    "str.capitalize()"
   ]
  },
  {
   "cell_type": "markdown",
   "id": "8537043a-9733-4d28-be09-d856345fcc76",
   "metadata": {},
   "source": [
    "$Count$"
   ]
  },
  {
   "cell_type": "code",
   "execution_count": 15,
   "id": "07eca8ec-aeba-48ae-959b-229496d1edef",
   "metadata": {},
   "outputs": [
    {
     "data": {
      "text/plain": [
       "2"
      ]
     },
     "execution_count": 15,
     "metadata": {},
     "output_type": "execute_result"
    }
   ],
   "source": [
    "str1='hai how are you' \n",
    "str1.count('a')"
   ]
  },
  {
   "cell_type": "code",
   "execution_count": 16,
   "id": "1584a261-5e86-43f1-a756-82e71ebe6c78",
   "metadata": {},
   "outputs": [
    {
     "data": {
      "text/plain": [
       "2"
      ]
     },
     "execution_count": 16,
     "metadata": {},
     "output_type": "execute_result"
    }
   ],
   "source": [
    "count=0\n",
    "for i in str1:\n",
    "    if i=='a':\n",
    "        count=count+1\n",
    "count"
   ]
  },
  {
   "cell_type": "code",
   "execution_count": 21,
   "id": "e1cef6b5-8d40-492a-bc28-8428a653e4d7",
   "metadata": {},
   "outputs": [
    {
     "data": {
      "text/plain": [
       "0"
      ]
     },
     "execution_count": 21,
     "metadata": {},
     "output_type": "execute_result"
    }
   ],
   "source": [
    "str1='ola ola ola' \n",
    "str1.count('z')"
   ]
  },
  {
   "cell_type": "code",
   "execution_count": 27,
   "id": "88a268cf-77fc-4075-b879-010b545e038e",
   "metadata": {},
   "outputs": [
    {
     "data": {
      "text/plain": [
       "1"
      ]
     },
     "execution_count": 27,
     "metadata": {},
     "output_type": "execute_result"
    }
   ],
   "source": [
    "# You want count the number of 'a'  after 5th index\n",
    "# You want count the number of 'a'  between 5th and 10th index\n",
    "str1='ola ola ola' \n",
    "str1.count('a',7)"
   ]
  },
  {
   "cell_type": "code",
   "execution_count": 30,
   "id": "84163469-3fb3-45e8-9ef4-d3ff5282904b",
   "metadata": {},
   "outputs": [
    {
     "data": {
      "text/plain": [
       "'ola ol'"
      ]
     },
     "execution_count": 30,
     "metadata": {},
     "output_type": "execute_result"
    }
   ],
   "source": [
    "str1='ola ola ola' \n",
    "str1.count('a',4,10)\n",
    "\n",
    "# 10-1=9\n",
    "str1[4:10]"
   ]
  },
  {
   "cell_type": "code",
   "execution_count": 31,
   "id": "21416947-2e35-4193-8405-4451ee76351f",
   "metadata": {},
   "outputs": [
    {
     "data": {
      "text/plain": [
       "2"
      ]
     },
     "execution_count": 31,
     "metadata": {},
     "output_type": "execute_result"
    }
   ],
   "source": [
    "str1='ola ola ola' \n",
    "str1.count('a',4,21)"
   ]
  },
  {
   "cell_type": "markdown",
   "id": "19a32af3-fd52-4d4d-a824-c11b8b46723e",
   "metadata": {},
   "source": [
    "- Note: There is no error in count\n"
   ]
  },
  {
   "cell_type": "code",
   "execution_count": null,
   "id": "987a50c4-eaff-4f08-bec3-11cb8a16d43d",
   "metadata": {},
   "outputs": [],
   "source": [
    "# Q13 with out using count find the number of 'ola'\n",
    "str1='ola'\n",
    "# ans=3\n",
    "for i in str1:\n",
    "    if i=='ola'   # 'o' =='ola'\n",
    "\n",
    "# clue: index\n",
    "# i:i+3"
   ]
  },
  {
   "cell_type": "markdown",
   "id": "a37fcfc0-a5e8-45d0-8545-d579afaf5769",
   "metadata": {},
   "source": [
    "$replace$"
   ]
  },
  {
   "cell_type": "code",
   "execution_count": 32,
   "id": "329f261d-3734-4cf5-9249-a18ffcd8a4ae",
   "metadata": {},
   "outputs": [],
   "source": [
    "str1='helo'\n",
    "# I want to replace 'l' with 'L'\n",
    "# This we are not able to do with index operations\n",
    "# That's why we are calling strings are immutable\n",
    "\n",
    "#But this is possibile using replace"
   ]
  },
  {
   "cell_type": "code",
   "execution_count": 33,
   "id": "5e4b3cb8-c89d-4912-875e-11a87133cf79",
   "metadata": {},
   "outputs": [
    {
     "data": {
      "text/plain": [
       "'heLo'"
      ]
     },
     "execution_count": 33,
     "metadata": {},
     "output_type": "execute_result"
    }
   ],
   "source": [
    "str1.replace('l','L')"
   ]
  },
  {
   "cell_type": "markdown",
   "id": "0a1a88fd-068e-4c84-a713-234b2729d63a",
   "metadata": {},
   "source": [
    "- In replace we have count=-1 as default value\n",
    "\n",
    "- which means it will replace all the letters \n",
    "\n",
    "- So If i want replace only one later can i give the count value? Yes\n",
    "\n",
    "- / means do not give the argument names , directly provide the value"
   ]
  },
  {
   "cell_type": "code",
   "execution_count": 34,
   "id": "56ca1734-1bae-4c62-9f7a-9ee196b581ae",
   "metadata": {},
   "outputs": [
    {
     "data": {
      "text/plain": [
       "'heLLLLo'"
      ]
     },
     "execution_count": 34,
     "metadata": {},
     "output_type": "execute_result"
    }
   ],
   "source": [
    "str1='hellllo'\n",
    "str1.replace('l','L')  # count=-1 "
   ]
  },
  {
   "cell_type": "code",
   "execution_count": 38,
   "id": "1fd1abf3-8a78-48f8-b6d0-28d52a9490a9",
   "metadata": {},
   "outputs": [
    {
     "data": {
      "text/plain": [
       "'heLLllo'"
      ]
     },
     "execution_count": 38,
     "metadata": {},
     "output_type": "execute_result"
    }
   ],
   "source": [
    "str1='hellllo'\n",
    "str1.replace('l','L',2)  # count=2"
   ]
  },
  {
   "cell_type": "code",
   "execution_count": 39,
   "id": "295f3aa5-0001-4e0a-8a60-d4cd85745609",
   "metadata": {},
   "outputs": [
    {
     "data": {
      "text/plain": [
       "'hellllo'"
      ]
     },
     "execution_count": 39,
     "metadata": {},
     "output_type": "execute_result"
    }
   ],
   "source": [
    "str1='hellllo'\n",
    "str1.replace('z','L')"
   ]
  },
  {
   "cell_type": "markdown",
   "id": "53617dd6-2fbd-46ab-befb-bea17548e4b5",
   "metadata": {},
   "source": [
    "- Read the doc string carefully\n",
    "\n",
    "- In that it will mention we wil get error at particular incident\n",
    "\n",
    "- For count method we will not get any error \n",
    "\n",
    "- There is no substring found, then ans will be zero\n",
    "\n",
    "- For replace also we will not get any error\n",
    "\n",
    "- If there is no substring found, then the ans will be original string"
   ]
  },
  {
   "cell_type": "code",
   "execution_count": 40,
   "id": "82ca6de5-d539-45e7-aceb-59b2970a5c49",
   "metadata": {},
   "outputs": [
    {
     "data": {
      "text/plain": [
       "'$esta$t'"
      ]
     },
     "execution_count": 40,
     "metadata": {},
     "output_type": "execute_result"
    }
   ],
   "source": [
    "# Q14) wap ask the user replace the string\n",
    "# input str: 'restart'\n",
    "# op :  'resta$t'\n",
    "str1='restart'\n",
    "str1.replace('r','$')"
   ]
  },
  {
   "cell_type": "code",
   "execution_count": 41,
   "id": "79a26b34-c37b-4ab9-a496-b9f80a040797",
   "metadata": {},
   "outputs": [
    {
     "data": {
      "text/plain": [
       "'$estart'"
      ]
     },
     "execution_count": 41,
     "metadata": {},
     "output_type": "execute_result"
    }
   ],
   "source": [
    "str1='restart'\n",
    "str1.replace('r','$',1)"
   ]
  },
  {
   "cell_type": "code",
   "execution_count": 49,
   "id": "ab24c870-5807-47d5-88ff-6b621ef408de",
   "metadata": {},
   "outputs": [
    {
     "data": {
      "text/plain": [
       "'resta$t'"
      ]
     },
     "execution_count": 49,
     "metadata": {},
     "output_type": "execute_result"
    }
   ],
   "source": [
    "str2=str1[::-1] # Reverse \n",
    "str3=str2.replace('r','$',1) # repalce 1st occurenace\n",
    "str4=str3[::-1] # reverse it\n",
    "str4"
   ]
  },
  {
   "cell_type": "code",
   "execution_count": 50,
   "id": "6b0aaf59-999f-4049-902e-de202642f73d",
   "metadata": {},
   "outputs": [
    {
     "data": {
      "text/plain": [
       "'resta$t'"
      ]
     },
     "execution_count": 50,
     "metadata": {},
     "output_type": "execute_result"
    }
   ],
   "source": [
    "str1[::-1].replace('r','$',1)[::-1]"
   ]
  },
  {
   "cell_type": "code",
   "execution_count": 56,
   "id": "a2fefd43-d792-4fe8-b46e-401a9543e57d",
   "metadata": {},
   "outputs": [
    {
     "data": {
      "text/plain": [
       "'resta$t'"
      ]
     },
     "execution_count": 56,
     "metadata": {},
     "output_type": "execute_result"
    }
   ],
   "source": [
    "s1=str1[0]  # 'r'\n",
    "s2=str1[1:] # 'estart'\n",
    "s3=s2.replace('r','$') # 'esta$t'\n",
    "s1+s3"
   ]
  },
  {
   "cell_type": "markdown",
   "id": "34b3fe8c-ec6e-48ea-943e-2b26233375ac",
   "metadata": {},
   "source": [
    "$index$\n",
    "\n",
    "- index will give the index of letter in a given string\n",
    "\n",
    "- By default It will provide the first occurence of letter only\n",
    "\n",
    "- If you want next occurence index of same letter you need to give start,stop\n",
    "\n",
    "- Like we given in count method"
   ]
  },
  {
   "cell_type": "code",
   "execution_count": 60,
   "id": "0543c7af-9ed6-4939-b4eb-2eb4ae3007f6",
   "metadata": {},
   "outputs": [
    {
     "data": {
      "text/plain": [
       "0"
      ]
     },
     "execution_count": 60,
     "metadata": {},
     "output_type": "execute_result"
    }
   ],
   "source": [
    "str1='restart'\n",
    "str1.index('r')"
   ]
  },
  {
   "cell_type": "code",
   "execution_count": 62,
   "id": "77630779-1350-47ab-bf4c-94d566362b75",
   "metadata": {},
   "outputs": [
    {
     "data": {
      "text/plain": [
       "5"
      ]
     },
     "execution_count": 62,
     "metadata": {},
     "output_type": "execute_result"
    }
   ],
   "source": [
    "# I want second r\n",
    "str1.index('r',1)"
   ]
  },
  {
   "cell_type": "code",
   "execution_count": null,
   "id": "34f1fdb7-5afc-49af-8d29-9bd0a452d571",
   "metadata": {},
   "outputs": [],
   "source": [
    "r  e  s  t  a  r  t\n",
    "0  1  2  3  4  5  6\n",
    "\n",
    "my eyes will not consider first  'r'  0\n",
    "my eyes are looking from index 1"
   ]
  },
  {
   "cell_type": "code",
   "execution_count": 68,
   "id": "2972f719-bacf-41e5-8ec9-424b9b231c34",
   "metadata": {},
   "outputs": [
    {
     "data": {
      "text/plain": [
       "(1, 5, 9, 13, 17)"
      ]
     },
     "execution_count": 68,
     "metadata": {},
     "output_type": "execute_result"
    }
   ],
   "source": [
    "str1='hai hai hai hai hai'\n",
    "      \n",
    "i1=str1.index('a')  # 1\n",
    "i2=str1.index('a',i1+1) # 5\n",
    "i3=str1.index('a',i2+1) # 9\n",
    "i4=str1.index('a',i3+1)\n",
    "i5=str1.index('a',i4+1)\n",
    "\n",
    "i1,i2,i3,i4,i5"
   ]
  },
  {
   "cell_type": "code",
   "execution_count": null,
   "id": "80a8a91f-4ada-41a5-8883-ae4fbf33dd3a",
   "metadata": {},
   "outputs": [],
   "source": [
    "'hai hai hai hai'\n",
    "a=1\n",
    "hai hai hai hai\n",
    "  i hai hai hai'\n",
    "      i hai hai\n",
    "          i hai"
   ]
  },
  {
   "cell_type": "markdown",
   "id": "d5b76871-f25b-4169-8beb-68eda5cd5679",
   "metadata": {},
   "source": [
    "$count$-$replace$-$index$"
   ]
  },
  {
   "cell_type": "code",
   "execution_count": 1,
   "id": "ef891aca-125b-4ec0-85fc-4b869d36bc51",
   "metadata": {},
   "outputs": [
    {
     "data": {
      "text/plain": [
       "0"
      ]
     },
     "execution_count": 1,
     "metadata": {},
     "output_type": "execute_result"
    }
   ],
   "source": [
    "str1='python'\n",
    "str1.count('z')"
   ]
  },
  {
   "cell_type": "code",
   "execution_count": 2,
   "id": "158e65de-cb3d-461e-9014-83d282281c74",
   "metadata": {},
   "outputs": [
    {
     "data": {
      "text/plain": [
       "'python'"
      ]
     },
     "execution_count": 2,
     "metadata": {},
     "output_type": "execute_result"
    }
   ],
   "source": [
    "str1='python'\n",
    "str1.replace('z','Z')"
   ]
  },
  {
   "cell_type": "code",
   "execution_count": 3,
   "id": "d06445d8-156d-432e-8ead-a6b0b7b72003",
   "metadata": {},
   "outputs": [
    {
     "ename": "ValueError",
     "evalue": "substring not found",
     "output_type": "error",
     "traceback": [
      "\u001b[1;31m---------------------------------------------------------------------------\u001b[0m",
      "\u001b[1;31mValueError\u001b[0m                                Traceback (most recent call last)",
      "Cell \u001b[1;32mIn[3], line 2\u001b[0m\n\u001b[0;32m      1\u001b[0m str1\u001b[38;5;241m=\u001b[39m\u001b[38;5;124m'\u001b[39m\u001b[38;5;124mpython\u001b[39m\u001b[38;5;124m'\u001b[39m\n\u001b[1;32m----> 2\u001b[0m str1\u001b[38;5;241m.\u001b[39mindex(\u001b[38;5;124m'\u001b[39m\u001b[38;5;124mz\u001b[39m\u001b[38;5;124m'\u001b[39m)\n",
      "\u001b[1;31mValueError\u001b[0m: substring not found"
     ]
    }
   ],
   "source": [
    "str1='python'\n",
    "str1.index('z')\n",
    "\n",
    "# z= substring\n",
    "# z is not present python"
   ]
  },
  {
   "cell_type": "code",
   "execution_count": 6,
   "id": "88203bbf-fa1e-4985-bf80-f26ffbd1f8ff",
   "metadata": {},
   "outputs": [
    {
     "data": {
      "text/plain": [
       "1"
      ]
     },
     "execution_count": 6,
     "metadata": {},
     "output_type": "execute_result"
    }
   ],
   "source": [
    "str1='hai hai hai hai'\n",
    "str1.count('a')  # total 'a'\n",
    "str1.count('a',4) # we want to count 'a' from index 4\n",
    "str1.count('a',5,9) # start at 5 and end at 9-1=8"
   ]
  },
  {
   "cell_type": "code",
   "execution_count": 7,
   "id": "cd29441a-89bb-497d-aaf7-05bbf4826708",
   "metadata": {},
   "outputs": [
    {
     "data": {
      "text/plain": [
       "1"
      ]
     },
     "execution_count": 7,
     "metadata": {},
     "output_type": "execute_result"
    }
   ],
   "source": [
    "str1='hai hai hai hai'\n",
    "str1.find('a')\n",
    "# index of 'a'\n",
    "# but so many 'a' are there\n",
    "# by defualt it will give first occurence index"
   ]
  },
  {
   "cell_type": "code",
   "execution_count": 11,
   "id": "8cce278a-4f8c-4976-b557-7cee5d91d640",
   "metadata": {},
   "outputs": [
    {
     "data": {
      "text/plain": [
       "(1, 5, 9, 13)"
      ]
     },
     "execution_count": 11,
     "metadata": {},
     "output_type": "execute_result"
    }
   ],
   "source": [
    "str1='hai hai hai hai'\n",
    "i1=str1.find('a')\n",
    "i2=str1.find('a',i1+1)  # 5\n",
    "i3=str1.find('a',i2+1)\n",
    "i4=str1.find('a',i3+1)\n",
    "i1,i2,i3,i4"
   ]
  },
  {
   "cell_type": "code",
   "execution_count": 13,
   "id": "59d09906-2c74-42be-85d6-6a77b1e759b1",
   "metadata": {},
   "outputs": [
    {
     "data": {
      "text/plain": [
       "8"
      ]
     },
     "execution_count": 13,
     "metadata": {},
     "output_type": "execute_result"
    }
   ],
   "source": [
    "str1='Manasi  Manasi'\n",
    "# index of 'M'\n",
    "i1=str1.find('M')  # 0\n",
    "str1.find('M',i1+1)"
   ]
  },
  {
   "cell_type": "code",
   "execution_count": 14,
   "id": "66d9f849-f581-43db-b7c3-b661bf44ec84",
   "metadata": {},
   "outputs": [
    {
     "data": {
      "text/plain": [
       "3"
      ]
     },
     "execution_count": 14,
     "metadata": {},
     "output_type": "execute_result"
    }
   ],
   "source": [
    "count=0\n",
    "str1='Monishh Monishh Monishh'\n",
    "for i in range(len(str1)):\n",
    "    if str1[i:i+7]=='Monishh':\n",
    "        count=count+1\n",
    "count\n",
    "# step-1   i=0   if str1[0:3] == 'ola'  True  count=1\n",
    "# step-2   i=1   if str1[1:4]  la ='ola' False"
   ]
  },
  {
   "cell_type": "markdown",
   "id": "b55f6c13-6d82-426e-8a72-3cc094a6e3a2",
   "metadata": {},
   "source": [
    "$find$"
   ]
  },
  {
   "cell_type": "code",
   "execution_count": 16,
   "id": "8a9ae80b-e9cb-4e7c-8297-f3a852c1bdfb",
   "metadata": {},
   "outputs": [
    {
     "data": {
      "text/plain": [
       "-1"
      ]
     },
     "execution_count": 16,
     "metadata": {},
     "output_type": "execute_result"
    }
   ],
   "source": [
    "str1='hai hai hai hai'\n",
    "str1.find('z')"
   ]
  },
  {
   "cell_type": "code",
   "execution_count": 18,
   "id": "1b9d2aa2-019e-4c21-912a-f0dd24a8f067",
   "metadata": {},
   "outputs": [
    {
     "data": {
      "text/plain": [
       "(1, 5, 9, 13, -1)"
      ]
     },
     "execution_count": 18,
     "metadata": {},
     "output_type": "execute_result"
    }
   ],
   "source": [
    "str1='hai hai hai hai'\n",
    "i1=str1.find('a')\n",
    "i2=str1.find('a',i1+1)  # 5\n",
    "i3=str1.find('a',i2+1)\n",
    "i4=str1.find('a',i3+1)\n",
    "i5=str1.find('a',i4+1)\n",
    "i1,i2,i3,i4,i5"
   ]
  },
  {
   "cell_type": "code",
   "execution_count": 19,
   "id": "dae0f8ae-eb09-42cf-a24a-21db0f8bf59a",
   "metadata": {},
   "outputs": [
    {
     "ename": "ValueError",
     "evalue": "substring not found",
     "output_type": "error",
     "traceback": [
      "\u001b[1;31m---------------------------------------------------------------------------\u001b[0m",
      "\u001b[1;31mValueError\u001b[0m                                Traceback (most recent call last)",
      "Cell \u001b[1;32mIn[19], line 6\u001b[0m\n\u001b[0;32m      4\u001b[0m i3\u001b[38;5;241m=\u001b[39mstr1\u001b[38;5;241m.\u001b[39mindex(\u001b[38;5;124m'\u001b[39m\u001b[38;5;124ma\u001b[39m\u001b[38;5;124m'\u001b[39m,i2\u001b[38;5;241m+\u001b[39m\u001b[38;5;241m1\u001b[39m)\n\u001b[0;32m      5\u001b[0m i4\u001b[38;5;241m=\u001b[39mstr1\u001b[38;5;241m.\u001b[39mindex(\u001b[38;5;124m'\u001b[39m\u001b[38;5;124ma\u001b[39m\u001b[38;5;124m'\u001b[39m,i3\u001b[38;5;241m+\u001b[39m\u001b[38;5;241m1\u001b[39m)\n\u001b[1;32m----> 6\u001b[0m i5\u001b[38;5;241m=\u001b[39mstr1\u001b[38;5;241m.\u001b[39mindex(\u001b[38;5;124m'\u001b[39m\u001b[38;5;124ma\u001b[39m\u001b[38;5;124m'\u001b[39m,i4\u001b[38;5;241m+\u001b[39m\u001b[38;5;241m1\u001b[39m)\n\u001b[0;32m      7\u001b[0m i1,i2,i3,i4,i5\n",
      "\u001b[1;31mValueError\u001b[0m: substring not found"
     ]
    }
   ],
   "source": [
    "str1='hai hai hai hai'\n",
    "i1=str1.index('a')\n",
    "i2=str1.index('a',i1+1)  # 5\n",
    "i3=str1.index('a',i2+1)\n",
    "i4=str1.index('a',i3+1)\n",
    "i5=str1.index('a',i4+1)\n",
    "i1,i2,i3,i4,i5"
   ]
  },
  {
   "cell_type": "markdown",
   "id": "8c9ed130-a05b-49d5-859e-5a62e000b784",
   "metadata": {},
   "source": [
    "**if substring not found**\n",
    "\n",
    "- do the shift+tab understand the docstring\n",
    "\n",
    "- if they mentioned any error or not\n",
    "\n",
    "- for count and replace they did not mention any error\n",
    "\n",
    "- for index error is mentioned \n",
    "\n",
    "- for find it is mentioned as -1\n",
    "\n",
    "- Count  will give zero\n",
    "\n",
    "- Replace will give same string\n",
    "\n",
    "- index will give error\n",
    "\n",
    "- find will give -1"
   ]
  },
  {
   "cell_type": "code",
   "execution_count": 22,
   "id": "69289f7f-41ac-42e6-a1d4-fb712fdfd860",
   "metadata": {},
   "outputs": [
    {
     "data": {
      "text/plain": [
       "3"
      ]
     },
     "execution_count": 22,
     "metadata": {},
     "output_type": "execute_result"
    }
   ],
   "source": [
    "def substring(main_str,s_s):\n",
    "    count=0\n",
    "    for i in range(len(str1)):\n",
    "       if str1[i:i+len(s)]==s:\n",
    "           count=count+1\n",
    "    return(count)\n",
    "\n",
    "count=substring(<>,<>)"
   ]
  },
  {
   "cell_type": "code",
   "execution_count": null,
   "id": "ee90c5a2-151b-4efd-89fc-eeb414cbfb9f",
   "metadata": {},
   "outputs": [],
   "source": [
    "# Q15)\n",
    "\n",
    "name='omkar.nallagoni@cognizant.com'\n",
    "# first name='omkar'\n",
    "# s_name='nallagoni'\n",
    "# c_name='cognizant'\n",
    "\n",
    "'virat.kohli@rcb.com'\n",
    "'rohit.sharma@mi.com'\n",
    "'kl.rahul@lsg.con'\n",
    "'a.b@c.com'\n",
    "\n",
    "first_name='omkar'\n",
    "second_name='nallagoni'\n",
    "c_name='congnizant'\n",
    "print(f\"{first_name}.{second_name}@{c_name}.com\")"
   ]
  },
  {
   "cell_type": "code",
   "execution_count": 27,
   "id": "a85fba46-a2ab-426c-92f7-2e49801864b6",
   "metadata": {},
   "outputs": [
    {
     "data": {
      "text/plain": [
       "('omkar', 'nallagoni', 'cognizant')"
      ]
     },
     "execution_count": 27,
     "metadata": {},
     "output_type": "execute_result"
    }
   ],
   "source": [
    "name='omkar.nallagoni@cognizant.com'\n",
    "i1=name.find('.')\n",
    "i2=name.find('@')\n",
    "i3=name.find('.',i1+1)\n",
    "\n",
    "f_name=name[0:i1]\n",
    "s_name=name[i1+1:i2]\n",
    "c_name=name[i2+1:i3]\n",
    "f_name,s_name,c_name"
   ]
  },
  {
   "cell_type": "code",
   "execution_count": 28,
   "id": "58a0d161-efa7-4448-b06f-798186113185",
   "metadata": {},
   "outputs": [
    {
     "name": "stdout",
     "output_type": "stream",
     "text": [
      "virat kohli rcb\n"
     ]
    }
   ],
   "source": [
    "def name_extraction(name):\n",
    "    i1=name.find('.')\n",
    "    i2=name.find('@')\n",
    "    i3=name.find('.',i1+1)\n",
    "    \n",
    "    f_name=name[0:i1]\n",
    "    s_name=name[i1+1:i2]\n",
    "    c_name=name[i2+1:i3]\n",
    "    print(f_name,s_name,c_name)\n",
    "name_extraction('virat.kohli@rcb.com')"
   ]
  },
  {
   "cell_type": "code",
   "execution_count": null,
   "id": "f7e8125f-70af-45dc-93cc-5d119d3925f6",
   "metadata": {},
   "outputs": [],
   "source": [
    "- capitalize /Title\n",
    "\n",
    "- center\n",
    "\n",
    "- upper /lower/casfold\n",
    "\n",
    "- count\n",
    "\n",
    "- replace\n",
    "\n",
    "- index /find\n"
   ]
  },
  {
   "cell_type": "code",
   "execution_count": 29,
   "id": "a2b1a8ab-d2ab-4b2c-b1d0-67b09e4934b1",
   "metadata": {},
   "outputs": [
    {
     "data": {
      "text/plain": [
       "['__add__',\n",
       " '__class__',\n",
       " '__contains__',\n",
       " '__delattr__',\n",
       " '__dir__',\n",
       " '__doc__',\n",
       " '__eq__',\n",
       " '__format__',\n",
       " '__ge__',\n",
       " '__getattribute__',\n",
       " '__getitem__',\n",
       " '__getnewargs__',\n",
       " '__getstate__',\n",
       " '__gt__',\n",
       " '__hash__',\n",
       " '__init__',\n",
       " '__init_subclass__',\n",
       " '__iter__',\n",
       " '__le__',\n",
       " '__len__',\n",
       " '__lt__',\n",
       " '__mod__',\n",
       " '__mul__',\n",
       " '__ne__',\n",
       " '__new__',\n",
       " '__reduce__',\n",
       " '__reduce_ex__',\n",
       " '__repr__',\n",
       " '__rmod__',\n",
       " '__rmul__',\n",
       " '__setattr__',\n",
       " '__sizeof__',\n",
       " '__str__',\n",
       " '__subclasshook__',\n",
       " 'capitalize',\n",
       " 'casefold',\n",
       " 'center',\n",
       " 'count',\n",
       " 'encode',\n",
       " 'endswith',\n",
       " 'expandtabs',\n",
       " 'find',\n",
       " 'format',\n",
       " 'format_map',\n",
       " 'index',\n",
       " 'isalnum',\n",
       " 'isalpha',\n",
       " 'isascii',\n",
       " 'isdecimal',\n",
       " 'isdigit',\n",
       " 'isidentifier',\n",
       " 'islower',\n",
       " 'isnumeric',\n",
       " 'isprintable',\n",
       " 'isspace',\n",
       " 'istitle',\n",
       " 'isupper',\n",
       " 'join',\n",
       " 'ljust',\n",
       " 'lower',\n",
       " 'lstrip',\n",
       " 'maketrans',\n",
       " 'partition',\n",
       " 'removeprefix',\n",
       " 'removesuffix',\n",
       " 'replace',\n",
       " 'rfind',\n",
       " 'rindex',\n",
       " 'rjust',\n",
       " 'rpartition',\n",
       " 'rsplit',\n",
       " 'rstrip',\n",
       " 'split',\n",
       " 'splitlines',\n",
       " 'startswith',\n",
       " 'strip',\n",
       " 'swapcase',\n",
       " 'title',\n",
       " 'translate',\n",
       " 'upper',\n",
       " 'zfill']"
      ]
     },
     "execution_count": 29,
     "metadata": {},
     "output_type": "execute_result"
    }
   ],
   "source": [
    "dir('')"
   ]
  },
  {
   "cell_type": "code",
   "execution_count": null,
   "id": "bc79eda4-d3ec-469c-9e78-f8b8ac82dd4e",
   "metadata": {},
   "outputs": [],
   "source": [
    "'isalnum',\n",
    " 'isalpha',\n",
    " 'isascii',\n",
    " 'isdecimal',\n",
    " 'isdigit',\n",
    " 'isidentifier',\n",
    " 'islower',\n",
    " 'isnumeric',\n",
    " 'isprintable',\n",
    " 'isspace',\n",
    " 'istitle',\n",
    " 'isupper',"
   ]
  },
  {
   "cell_type": "code",
   "execution_count": 32,
   "id": "74cb3bd3-5d94-4161-85da-d0df00d04f70",
   "metadata": {},
   "outputs": [
    {
     "data": {
      "text/plain": [
       "True"
      ]
     },
     "execution_count": 32,
     "metadata": {},
     "output_type": "execute_result"
    }
   ],
   "source": [
    "'abc'.isalnum()"
   ]
  },
  {
   "cell_type": "code",
   "execution_count": 34,
   "id": "39c36172-e247-47b3-af81-e99f09fabb33",
   "metadata": {},
   "outputs": [
    {
     "data": {
      "text/plain": [
       "True"
      ]
     },
     "execution_count": 34,
     "metadata": {},
     "output_type": "execute_result"
    }
   ],
   "source": [
    "'ABC'.isupper()"
   ]
  },
  {
   "cell_type": "markdown",
   "id": "f6baff6d-7cb9-439f-9b05-19c92a20af82",
   "metadata": {},
   "source": [
    "$strip$-$lstrip$-$rstrip$"
   ]
  },
  {
   "cell_type": "code",
   "execution_count": 35,
   "id": "dc59c4ee-2fca-436e-a39a-9b29816782b6",
   "metadata": {},
   "outputs": [],
   "source": [
    "name1=' python '\n",
    "name2='python '\n",
    "name3=' python'"
   ]
  },
  {
   "cell_type": "code",
   "execution_count": 36,
   "id": "5f17860d-e9bd-4423-ac10-2596c1bb0bfe",
   "metadata": {},
   "outputs": [
    {
     "data": {
      "text/plain": [
       "('python', 'python ', ' python')"
      ]
     },
     "execution_count": 36,
     "metadata": {},
     "output_type": "execute_result"
    }
   ],
   "source": [
    "name1.strip(),name1.lstrip(),name1.rstrip()"
   ]
  },
  {
   "cell_type": "code",
   "execution_count": 37,
   "id": "9cbef304-3579-4bd6-b9e1-b2fd7e46f65b",
   "metadata": {},
   "outputs": [
    {
     "data": {
      "text/plain": [
       "('python', 'python ', 'python')"
      ]
     },
     "execution_count": 37,
     "metadata": {},
     "output_type": "execute_result"
    }
   ],
   "source": [
    "name2.strip(),name2.lstrip(),name2.rstrip()"
   ]
  },
  {
   "cell_type": "code",
   "execution_count": 38,
   "id": "b7a70898-5137-4850-b47d-9ef00148b07c",
   "metadata": {},
   "outputs": [
    {
     "data": {
      "text/plain": [
       "('python', 'python', ' python')"
      ]
     },
     "execution_count": 38,
     "metadata": {},
     "output_type": "execute_result"
    }
   ],
   "source": [
    "name3.strip(),name3.lstrip(),name3.rstrip()"
   ]
  },
  {
   "cell_type": "code",
   "execution_count": 43,
   "id": "d5c1c6cc-3497-4b8a-93a5-e7510699f240",
   "metadata": {},
   "outputs": [
    {
     "data": {
      "text/plain": [
       "'python'"
      ]
     },
     "execution_count": 43,
     "metadata": {},
     "output_type": "execute_result"
    }
   ],
   "source": [
    "name4=' python$$$'\n",
    "name4.lstrip().rstrip('$')"
   ]
  },
  {
   "cell_type": "code",
   "execution_count": 44,
   "id": "a8785e4c-2d7e-42fe-b720-e8108a725947",
   "metadata": {},
   "outputs": [
    {
     "data": {
      "text/plain": [
       "'python'"
      ]
     },
     "execution_count": 44,
     "metadata": {},
     "output_type": "execute_result"
    }
   ],
   "source": [
    "name4.strip().strip('$')"
   ]
  },
  {
   "cell_type": "code",
   "execution_count": 45,
   "id": "95e69c75-be64-4f6c-9859-1c60687b642b",
   "metadata": {},
   "outputs": [
    {
     "data": {
      "text/plain": [
       "'python'"
      ]
     },
     "execution_count": 45,
     "metadata": {},
     "output_type": "execute_result"
    }
   ],
   "source": [
    "name4.strip('$').strip()"
   ]
  },
  {
   "cell_type": "code",
   "execution_count": null,
   "id": "db816cde-40f9-4d80-809e-58086b0077ab",
   "metadata": {},
   "outputs": [],
   "source": [
    "name4=' python$$$'\n",
    "name4.lstrip().rstrip('$')\n",
    "name4.strip().strip('$')\n",
    "name4.strip('$').strip()\n",
    "name4.rstrip('$').lstrip()"
   ]
  },
  {
   "cell_type": "code",
   "execution_count": 47,
   "id": "97baa7cf-1fd0-4280-a630-8957b6f9ce97",
   "metadata": {},
   "outputs": [
    {
     "data": {
      "text/plain": [
       "'python'"
      ]
     },
     "execution_count": 47,
     "metadata": {},
     "output_type": "execute_result"
    }
   ],
   "source": [
    "name4=' python$$$'\n",
    "n5=name4.lstrip()\n",
    "n5.rstrip('$')"
   ]
  },
  {
   "cell_type": "markdown",
   "id": "bb7ab2a3-5a8e-44ae-8a54-2eb1f785373f",
   "metadata": {},
   "source": [
    "$split$"
   ]
  },
  {
   "cell_type": "code",
   "execution_count": 48,
   "id": "26797471-68e3-4021-a360-84a7159ca0e1",
   "metadata": {},
   "outputs": [
    {
     "data": {
      "text/plain": [
       "['hello', 'how', 'are', 'you']"
      ]
     },
     "execution_count": 48,
     "metadata": {},
     "output_type": "execute_result"
    }
   ],
   "source": [
    "str='hello how are you'\n",
    "str.split()"
   ]
  },
  {
   "cell_type": "code",
   "execution_count": 49,
   "id": "50312b5a-653e-4416-a4e2-74e218e91d62",
   "metadata": {},
   "outputs": [
    {
     "data": {
      "text/plain": [
       "['hello how', ' are you']"
      ]
     },
     "execution_count": 49,
     "metadata": {},
     "output_type": "execute_result"
    }
   ],
   "source": [
    "str1='hello how, are you'\n",
    "str1.split(',')"
   ]
  },
  {
   "cell_type": "code",
   "execution_count": null,
   "id": "300005d2-d2f5-4884-a154-656867bbd2c2",
   "metadata": {},
   "outputs": [],
   "source": [
    "str2='hello how, are you'\n",
    "str2.split('o')"
   ]
  },
  {
   "cell_type": "markdown",
   "id": "b8c2155e-f456-4715-9b8d-729f5270794e",
   "metadata": {},
   "source": [
    "$startswith$-$endswith$"
   ]
  },
  {
   "cell_type": "code",
   "execution_count": 52,
   "id": "fe6f9810-65b3-4b4d-9826-c72b45a14deb",
   "metadata": {},
   "outputs": [
    {
     "data": {
      "text/plain": [
       "True"
      ]
     },
     "execution_count": 52,
     "metadata": {},
     "output_type": "execute_result"
    }
   ],
   "source": [
    "str='hello how are you'\n",
    "str.startswith('hello how are you')"
   ]
  },
  {
   "cell_type": "code",
   "execution_count": 53,
   "id": "68659262-b71c-4f54-8c41-6aa1747afe29",
   "metadata": {},
   "outputs": [
    {
     "data": {
      "text/plain": [
       "False"
      ]
     },
     "execution_count": 53,
     "metadata": {},
     "output_type": "execute_result"
    }
   ],
   "source": [
    "str.startswith('u')"
   ]
  },
  {
   "cell_type": "code",
   "execution_count": 54,
   "id": "1ad16d92-756e-4d89-9f74-15c325738ecd",
   "metadata": {},
   "outputs": [
    {
     "data": {
      "text/plain": [
       "True"
      ]
     },
     "execution_count": 54,
     "metadata": {},
     "output_type": "execute_result"
    }
   ],
   "source": [
    "str='hello how are you'\n",
    "str.endswith('hello how are you')"
   ]
  },
  {
   "cell_type": "code",
   "execution_count": null,
   "id": "2e21bd14-6689-476a-8d26-9c0cf51c2c13",
   "metadata": {},
   "outputs": [],
   "source": []
  }
 ],
 "metadata": {
  "kernelspec": {
   "display_name": "Python 3 (ipykernel)",
   "language": "python",
   "name": "python3"
  },
  "language_info": {
   "codemirror_mode": {
    "name": "ipython",
    "version": 3
   },
   "file_extension": ".py",
   "mimetype": "text/x-python",
   "name": "python",
   "nbconvert_exporter": "python",
   "pygments_lexer": "ipython3",
   "version": "3.11.7"
  }
 },
 "nbformat": 4,
 "nbformat_minor": 5
}
